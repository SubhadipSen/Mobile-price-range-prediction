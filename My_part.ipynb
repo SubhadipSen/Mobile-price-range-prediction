{
  "nbformat": 4,
  "nbformat_minor": 0,
  "metadata": {
    "colab": {
      "name": "My_part.ipynb",
      "provenance": [],
      "collapsed_sections": [],
      "include_colab_link": true
    },
    "kernelspec": {
      "display_name": "Python 3",
      "name": "python3"
    },
    "language_info": {
      "name": "python"
    }
  },
  "cells": [
    {
      "cell_type": "markdown",
      "metadata": {
        "id": "view-in-github",
        "colab_type": "text"
      },
      "source": [
        "<a href=\"https://colab.research.google.com/github/SubhadipSen/Mobile-price-range-prediction/blob/main/My_part.ipynb\" target=\"_parent\"><img src=\"https://colab.research.google.com/assets/colab-badge.svg\" alt=\"Open In Colab\"/></a>"
      ]
    },
    {
      "cell_type": "markdown",
      "metadata": {
        "id": "Y1JMVuJnfhot"
      },
      "source": [
        "###**In the competitive mobile phone market companies want to understand sales data of mobile phones and factors which drive the prices.**\n",
        "###**The objective is to find out some relation between features of a mobile phone(eg:- RAM, Internal Memory, etc) and its selling price. In this problem, we do not have to predict the actual price but a price range indicating how high the price is.**\n",
        "#**Data Description -**\n",
        "**Battery_power -** Total energy a battery can store in one time measured in mAh\n",
        "\n",
        "**Blue -** Has bluetooth or not\n",
        "\n",
        "**Clock_speed -** speed at which microprocessor executes instructions\n",
        "\n",
        "**Dual_sim -** Has dual sim support or not\n",
        "\n",
        "**Fc -** Front Camera mega pixels\n",
        "\n",
        "**Four_g -** Has 4G or not\n",
        "\n",
        "**Int_memory -** Internal Memory in Gigabytes\n",
        "\n",
        "**M_dep -** Mobile Depth in cm\n",
        "\n",
        "**Mobile_wt -** Weight of mobile phone\n",
        "\n",
        "**N_cores -** Number of cores of processor\n",
        "\n",
        "**Pc -** Primary Camera mega pixels\n",
        "\n",
        "**Px_height -** Pixel Resolution Height\n",
        "\n",
        "**Px_width -** Pixel Resolution Width\n",
        "\n",
        "**Ram -** Random Access Memory in Mega Bytes\n",
        "\n",
        "**Sc_h -** Screen Height of mobile in cm\n",
        "\n",
        "**Sc_w -** Screen Width of mobile in cm\n",
        "\n",
        "**Talk_time -** longest time that a single battery charge will last when you are\n",
        "\n",
        "**Three_g -** Has 3G or not\n",
        "\n",
        "**Touch_screen -** Has touch screen or not\n",
        "\n",
        "**Wifi -** Has wifi or not\n",
        "\n",
        "**Price_range -** This is the target variable with value of 0(low cost), 1(medium cost),\n",
        "2(high cost) and 3(very high cost)."
      ]
    },
    {
      "cell_type": "code",
      "metadata": {
        "colab": {
          "base_uri": "https://localhost:8080/"
        },
        "id": "pEkZnRE_xNUm",
        "outputId": "4230b1e8-3109-484f-8bf4-e2cfe8eff35d"
      },
      "source": [
        "from google.colab import drive\n",
        "drive.mount('/content/drive')"
      ],
      "execution_count": null,
      "outputs": [
        {
          "name": "stdout",
          "output_type": "stream",
          "text": [
            "Mounted at /content/drive\n"
          ]
        }
      ]
    },
    {
      "cell_type": "code",
      "metadata": {
        "id": "44vzh9a80dB_"
      },
      "source": [
        "# import warnings\n",
        "# warnings.filterwarnings(\"ignore\", category=DeprecationWarning) \n",
        "import warnings \n",
        "warnings. simplefilter(action='ignore', category=Warning)\n",
        "import pandas as pd\n",
        "import numpy as np\n",
        "import matplotlib.pyplot as plt\n",
        "from numpy import math\n",
        "import seaborn as sns\n",
        "\n",
        "from sklearn.preprocessing import MinMaxScaler\n",
        "from sklearn.model_selection import train_test_split\n",
        "from sklearn.linear_model import LinearRegression\n",
        "from sklearn.metrics import r2_score\n",
        "from sklearn.metrics import mean_squared_error"
      ],
      "execution_count": null,
      "outputs": []
    },
    {
      "cell_type": "code",
      "metadata": {
        "id": "Ms3N_rEu0xg3"
      },
      "source": [
        "mobile_price_prediction=pd.read_csv(\"/content/drive/MyDrive/data_mobile_price_range.csv\")"
      ],
      "execution_count": null,
      "outputs": []
    },
    {
      "cell_type": "code",
      "metadata": {
        "colab": {
          "base_uri": "https://localhost:8080/",
          "height": 223
        },
        "id": "qdrmUG1L05TC",
        "outputId": "77385e63-e71b-43d5-f77d-7ec4d9985e23"
      },
      "source": [
        "mobile_price_prediction.head()"
      ],
      "execution_count": null,
      "outputs": [
        {
          "data": {
            "text/html": [
              "<div>\n",
              "<style scoped>\n",
              "    .dataframe tbody tr th:only-of-type {\n",
              "        vertical-align: middle;\n",
              "    }\n",
              "\n",
              "    .dataframe tbody tr th {\n",
              "        vertical-align: top;\n",
              "    }\n",
              "\n",
              "    .dataframe thead th {\n",
              "        text-align: right;\n",
              "    }\n",
              "</style>\n",
              "<table border=\"1\" class=\"dataframe\">\n",
              "  <thead>\n",
              "    <tr style=\"text-align: right;\">\n",
              "      <th></th>\n",
              "      <th>battery_power</th>\n",
              "      <th>blue</th>\n",
              "      <th>clock_speed</th>\n",
              "      <th>dual_sim</th>\n",
              "      <th>fc</th>\n",
              "      <th>four_g</th>\n",
              "      <th>int_memory</th>\n",
              "      <th>m_dep</th>\n",
              "      <th>mobile_wt</th>\n",
              "      <th>n_cores</th>\n",
              "      <th>pc</th>\n",
              "      <th>px_height</th>\n",
              "      <th>px_width</th>\n",
              "      <th>ram</th>\n",
              "      <th>sc_h</th>\n",
              "      <th>sc_w</th>\n",
              "      <th>talk_time</th>\n",
              "      <th>three_g</th>\n",
              "      <th>touch_screen</th>\n",
              "      <th>wifi</th>\n",
              "      <th>price_range</th>\n",
              "    </tr>\n",
              "  </thead>\n",
              "  <tbody>\n",
              "    <tr>\n",
              "      <th>0</th>\n",
              "      <td>842</td>\n",
              "      <td>0</td>\n",
              "      <td>2.2</td>\n",
              "      <td>0</td>\n",
              "      <td>1</td>\n",
              "      <td>0</td>\n",
              "      <td>7</td>\n",
              "      <td>0.6</td>\n",
              "      <td>188</td>\n",
              "      <td>2</td>\n",
              "      <td>2</td>\n",
              "      <td>20</td>\n",
              "      <td>756</td>\n",
              "      <td>2549</td>\n",
              "      <td>9</td>\n",
              "      <td>7</td>\n",
              "      <td>19</td>\n",
              "      <td>0</td>\n",
              "      <td>0</td>\n",
              "      <td>1</td>\n",
              "      <td>1</td>\n",
              "    </tr>\n",
              "    <tr>\n",
              "      <th>1</th>\n",
              "      <td>1021</td>\n",
              "      <td>1</td>\n",
              "      <td>0.5</td>\n",
              "      <td>1</td>\n",
              "      <td>0</td>\n",
              "      <td>1</td>\n",
              "      <td>53</td>\n",
              "      <td>0.7</td>\n",
              "      <td>136</td>\n",
              "      <td>3</td>\n",
              "      <td>6</td>\n",
              "      <td>905</td>\n",
              "      <td>1988</td>\n",
              "      <td>2631</td>\n",
              "      <td>17</td>\n",
              "      <td>3</td>\n",
              "      <td>7</td>\n",
              "      <td>1</td>\n",
              "      <td>1</td>\n",
              "      <td>0</td>\n",
              "      <td>2</td>\n",
              "    </tr>\n",
              "    <tr>\n",
              "      <th>2</th>\n",
              "      <td>563</td>\n",
              "      <td>1</td>\n",
              "      <td>0.5</td>\n",
              "      <td>1</td>\n",
              "      <td>2</td>\n",
              "      <td>1</td>\n",
              "      <td>41</td>\n",
              "      <td>0.9</td>\n",
              "      <td>145</td>\n",
              "      <td>5</td>\n",
              "      <td>6</td>\n",
              "      <td>1263</td>\n",
              "      <td>1716</td>\n",
              "      <td>2603</td>\n",
              "      <td>11</td>\n",
              "      <td>2</td>\n",
              "      <td>9</td>\n",
              "      <td>1</td>\n",
              "      <td>1</td>\n",
              "      <td>0</td>\n",
              "      <td>2</td>\n",
              "    </tr>\n",
              "    <tr>\n",
              "      <th>3</th>\n",
              "      <td>615</td>\n",
              "      <td>1</td>\n",
              "      <td>2.5</td>\n",
              "      <td>0</td>\n",
              "      <td>0</td>\n",
              "      <td>0</td>\n",
              "      <td>10</td>\n",
              "      <td>0.8</td>\n",
              "      <td>131</td>\n",
              "      <td>6</td>\n",
              "      <td>9</td>\n",
              "      <td>1216</td>\n",
              "      <td>1786</td>\n",
              "      <td>2769</td>\n",
              "      <td>16</td>\n",
              "      <td>8</td>\n",
              "      <td>11</td>\n",
              "      <td>1</td>\n",
              "      <td>0</td>\n",
              "      <td>0</td>\n",
              "      <td>2</td>\n",
              "    </tr>\n",
              "    <tr>\n",
              "      <th>4</th>\n",
              "      <td>1821</td>\n",
              "      <td>1</td>\n",
              "      <td>1.2</td>\n",
              "      <td>0</td>\n",
              "      <td>13</td>\n",
              "      <td>1</td>\n",
              "      <td>44</td>\n",
              "      <td>0.6</td>\n",
              "      <td>141</td>\n",
              "      <td>2</td>\n",
              "      <td>14</td>\n",
              "      <td>1208</td>\n",
              "      <td>1212</td>\n",
              "      <td>1411</td>\n",
              "      <td>8</td>\n",
              "      <td>2</td>\n",
              "      <td>15</td>\n",
              "      <td>1</td>\n",
              "      <td>1</td>\n",
              "      <td>0</td>\n",
              "      <td>1</td>\n",
              "    </tr>\n",
              "  </tbody>\n",
              "</table>\n",
              "</div>"
            ],
            "text/plain": [
              "   battery_power  blue  clock_speed  ...  touch_screen  wifi  price_range\n",
              "0            842     0          2.2  ...             0     1            1\n",
              "1           1021     1          0.5  ...             1     0            2\n",
              "2            563     1          0.5  ...             1     0            2\n",
              "3            615     1          2.5  ...             0     0            2\n",
              "4           1821     1          1.2  ...             1     0            1\n",
              "\n",
              "[5 rows x 21 columns]"
            ]
          },
          "execution_count": 4,
          "metadata": {},
          "output_type": "execute_result"
        }
      ]
    },
    {
      "cell_type": "markdown",
      "metadata": {
        "id": "IyS18WMJ1Ha3"
      },
      "source": [
        "###Checking Missing Values in our dataset"
      ]
    },
    {
      "cell_type": "markdown",
      "metadata": {
        "id": "oET7gQjeY6tB"
      },
      "source": [
        "#Chi-Square Test for Independence"
      ]
    },
    {
      "cell_type": "code",
      "metadata": {
        "id": "mMzh1X8TZjW9"
      },
      "source": [
        "from scipy.stats import chi2_contingency"
      ],
      "execution_count": null,
      "outputs": []
    },
    {
      "cell_type": "code",
      "metadata": {
        "id": "BckPeCFVZGYj"
      },
      "source": [
        "catagory=['blue','dual_sim','four_g','n_cores','three_g','touch_screen','wifi']\n",
        "p_value=[]\n",
        "is_significant_relationship=[]\n",
        "\n",
        "for i in catagory:\n",
        "     \n",
        "    data=pd.crosstab(mobile_price_prediction[i], mobile_price_prediction['price_range'], margins=True)\n",
        "    stat, p, dof, expected = chi2_contingency(data)\n",
        "    p_value.append(p)\n",
        "    if p<=0.05:\n",
        "      is_significant_relationship.append('YES')\n",
        "    else:\n",
        "      is_significant_relationship.append('NO')\n"
      ],
      "execution_count": null,
      "outputs": []
    },
    {
      "cell_type": "code",
      "metadata": {
        "id": "UBiBi-3hZGBt"
      },
      "source": [
        "chi2_table=pd.DataFrame(list(zip(catagory,p_value,is_significant_relationship)),columns=['catagory','p_value','is_significant_relationship'])"
      ],
      "execution_count": null,
      "outputs": []
    },
    {
      "cell_type": "code",
      "metadata": {
        "colab": {
          "base_uri": "https://localhost:8080/",
          "height": 265
        },
        "id": "x5MXH8uRZz0c",
        "outputId": "a631130e-af00-4d3a-8367-31c65be2440a"
      },
      "source": [
        "chi2_table"
      ],
      "execution_count": null,
      "outputs": [
        {
          "data": {
            "text/html": [
              "<div>\n",
              "<style scoped>\n",
              "    .dataframe tbody tr th:only-of-type {\n",
              "        vertical-align: middle;\n",
              "    }\n",
              "\n",
              "    .dataframe tbody tr th {\n",
              "        vertical-align: top;\n",
              "    }\n",
              "\n",
              "    .dataframe thead th {\n",
              "        text-align: right;\n",
              "    }\n",
              "</style>\n",
              "<table border=\"1\" class=\"dataframe\">\n",
              "  <thead>\n",
              "    <tr style=\"text-align: right;\">\n",
              "      <th></th>\n",
              "      <th>catagory</th>\n",
              "      <th>p_value</th>\n",
              "      <th>is_significant_relationship</th>\n",
              "    </tr>\n",
              "  </thead>\n",
              "  <tbody>\n",
              "    <tr>\n",
              "      <th>0</th>\n",
              "      <td>blue</td>\n",
              "      <td>0.993778</td>\n",
              "      <td>NO</td>\n",
              "    </tr>\n",
              "    <tr>\n",
              "      <th>1</th>\n",
              "      <td>dual_sim</td>\n",
              "      <td>0.995712</td>\n",
              "      <td>NO</td>\n",
              "    </tr>\n",
              "    <tr>\n",
              "      <th>2</th>\n",
              "      <td>four_g</td>\n",
              "      <td>0.922567</td>\n",
              "      <td>NO</td>\n",
              "    </tr>\n",
              "    <tr>\n",
              "      <th>3</th>\n",
              "      <td>n_cores</td>\n",
              "      <td>0.941549</td>\n",
              "      <td>NO</td>\n",
              "    </tr>\n",
              "    <tr>\n",
              "      <th>4</th>\n",
              "      <td>three_g</td>\n",
              "      <td>0.994611</td>\n",
              "      <td>NO</td>\n",
              "    </tr>\n",
              "    <tr>\n",
              "      <th>5</th>\n",
              "      <td>touch_screen</td>\n",
              "      <td>0.867772</td>\n",
              "      <td>NO</td>\n",
              "    </tr>\n",
              "    <tr>\n",
              "      <th>6</th>\n",
              "      <td>wifi</td>\n",
              "      <td>0.999004</td>\n",
              "      <td>NO</td>\n",
              "    </tr>\n",
              "  </tbody>\n",
              "</table>\n",
              "</div>"
            ],
            "text/plain": [
              "       catagory   p_value is_significant_relationship\n",
              "0          blue  0.993778                          NO\n",
              "1      dual_sim  0.995712                          NO\n",
              "2        four_g  0.922567                          NO\n",
              "3       n_cores  0.941549                          NO\n",
              "4       three_g  0.994611                          NO\n",
              "5  touch_screen  0.867772                          NO\n",
              "6          wifi  0.999004                          NO"
            ]
          },
          "execution_count": 29,
          "metadata": {},
          "output_type": "execute_result"
        }
      ]
    },
    {
      "cell_type": "markdown",
      "metadata": {
        "id": "173MtK7kWOKc"
      },
      "source": [
        "# Feature importance using **variance inflation factor**"
      ]
    },
    {
      "cell_type": "code",
      "metadata": {
        "id": "bLo4yd6VOOac"
      },
      "source": [
        "features='+'.join(mobile_price_prediction.columns.difference(['price_range']))"
      ],
      "execution_count": null,
      "outputs": []
    },
    {
      "cell_type": "code",
      "metadata": {
        "id": "CfSHYt3NWMZ2"
      },
      "source": [
        "from patsy import dmatrices\n",
        "from statsmodels.stats.outliers_influence import variance_inflation_factor"
      ],
      "execution_count": null,
      "outputs": []
    },
    {
      "cell_type": "code",
      "metadata": {
        "id": "sYRVd38kWaJy"
      },
      "source": [
        "a,b=dmatrices(formula_like='price_range~'+features,data=mobile_price_prediction,return_type='dataframe')\n",
        "vif=pd.DataFrame()\n",
        "vif['VIF Factor']=[variance_inflation_factor(b.values, i) for i in range(b.shape[1])]\n",
        "vif['Features']=b.columns"
      ],
      "execution_count": null,
      "outputs": []
    },
    {
      "cell_type": "code",
      "metadata": {
        "colab": {
          "base_uri": "https://localhost:8080/",
          "height": 696
        },
        "id": "4jxRXvmLWkvT",
        "outputId": "82915e2c-46ed-4654-aacb-76bd94a8064a"
      },
      "source": [
        "vif"
      ],
      "execution_count": null,
      "outputs": [
        {
          "data": {
            "text/html": [
              "<div>\n",
              "<style scoped>\n",
              "    .dataframe tbody tr th:only-of-type {\n",
              "        vertical-align: middle;\n",
              "    }\n",
              "\n",
              "    .dataframe tbody tr th {\n",
              "        vertical-align: top;\n",
              "    }\n",
              "\n",
              "    .dataframe thead th {\n",
              "        text-align: right;\n",
              "    }\n",
              "</style>\n",
              "<table border=\"1\" class=\"dataframe\">\n",
              "  <thead>\n",
              "    <tr style=\"text-align: right;\">\n",
              "      <th></th>\n",
              "      <th>VIF Factor</th>\n",
              "      <th>Features</th>\n",
              "    </tr>\n",
              "  </thead>\n",
              "  <tbody>\n",
              "    <tr>\n",
              "      <th>0</th>\n",
              "      <td>73.921098</td>\n",
              "      <td>Intercept</td>\n",
              "    </tr>\n",
              "    <tr>\n",
              "      <th>1</th>\n",
              "      <td>1.009945</td>\n",
              "      <td>battery_power</td>\n",
              "    </tr>\n",
              "    <tr>\n",
              "      <th>2</th>\n",
              "      <td>1.011342</td>\n",
              "      <td>blue</td>\n",
              "    </tr>\n",
              "    <tr>\n",
              "      <th>3</th>\n",
              "      <td>1.006025</td>\n",
              "      <td>clock_speed</td>\n",
              "    </tr>\n",
              "    <tr>\n",
              "      <th>4</th>\n",
              "      <td>1.011555</td>\n",
              "      <td>dual_sim</td>\n",
              "    </tr>\n",
              "    <tr>\n",
              "      <th>5</th>\n",
              "      <td>1.718987</td>\n",
              "      <td>fc</td>\n",
              "    </tr>\n",
              "    <tr>\n",
              "      <th>6</th>\n",
              "      <td>1.528509</td>\n",
              "      <td>four_g</td>\n",
              "    </tr>\n",
              "    <tr>\n",
              "      <th>7</th>\n",
              "      <td>1.009274</td>\n",
              "      <td>int_memory</td>\n",
              "    </tr>\n",
              "    <tr>\n",
              "      <th>8</th>\n",
              "      <td>1.006385</td>\n",
              "      <td>m_dep</td>\n",
              "    </tr>\n",
              "    <tr>\n",
              "      <th>9</th>\n",
              "      <td>1.004548</td>\n",
              "      <td>mobile_wt</td>\n",
              "    </tr>\n",
              "    <tr>\n",
              "      <th>10</th>\n",
              "      <td>1.008442</td>\n",
              "      <td>n_cores</td>\n",
              "    </tr>\n",
              "    <tr>\n",
              "      <th>11</th>\n",
              "      <td>1.720785</td>\n",
              "      <td>pc</td>\n",
              "    </tr>\n",
              "    <tr>\n",
              "      <th>12</th>\n",
              "      <td>1.369052</td>\n",
              "      <td>px_height</td>\n",
              "    </tr>\n",
              "    <tr>\n",
              "      <th>13</th>\n",
              "      <td>1.362399</td>\n",
              "      <td>px_width</td>\n",
              "    </tr>\n",
              "    <tr>\n",
              "      <th>14</th>\n",
              "      <td>1.008331</td>\n",
              "      <td>ram</td>\n",
              "    </tr>\n",
              "    <tr>\n",
              "      <th>15</th>\n",
              "      <td>1.356109</td>\n",
              "      <td>sc_h</td>\n",
              "    </tr>\n",
              "    <tr>\n",
              "      <th>16</th>\n",
              "      <td>1.353648</td>\n",
              "      <td>sc_w</td>\n",
              "    </tr>\n",
              "    <tr>\n",
              "      <th>17</th>\n",
              "      <td>1.010502</td>\n",
              "      <td>talk_time</td>\n",
              "    </tr>\n",
              "    <tr>\n",
              "      <th>18</th>\n",
              "      <td>1.527367</td>\n",
              "      <td>three_g</td>\n",
              "    </tr>\n",
              "    <tr>\n",
              "      <th>19</th>\n",
              "      <td>1.006278</td>\n",
              "      <td>touch_screen</td>\n",
              "    </tr>\n",
              "    <tr>\n",
              "      <th>20</th>\n",
              "      <td>1.009100</td>\n",
              "      <td>wifi</td>\n",
              "    </tr>\n",
              "  </tbody>\n",
              "</table>\n",
              "</div>"
            ],
            "text/plain": [
              "    VIF Factor       Features\n",
              "0    73.921098      Intercept\n",
              "1     1.009945  battery_power\n",
              "2     1.011342           blue\n",
              "3     1.006025    clock_speed\n",
              "4     1.011555       dual_sim\n",
              "5     1.718987             fc\n",
              "6     1.528509         four_g\n",
              "7     1.009274     int_memory\n",
              "8     1.006385          m_dep\n",
              "9     1.004548      mobile_wt\n",
              "10    1.008442        n_cores\n",
              "11    1.720785             pc\n",
              "12    1.369052      px_height\n",
              "13    1.362399       px_width\n",
              "14    1.008331            ram\n",
              "15    1.356109           sc_h\n",
              "16    1.353648           sc_w\n",
              "17    1.010502      talk_time\n",
              "18    1.527367        three_g\n",
              "19    1.006278   touch_screen\n",
              "20    1.009100           wifi"
            ]
          },
          "execution_count": 33,
          "metadata": {},
          "output_type": "execute_result"
        }
      ]
    },
    {
      "cell_type": "code",
      "metadata": {
        "colab": {
          "base_uri": "https://localhost:8080/",
          "height": 417
        },
        "id": "1YrKGqotc0vS",
        "outputId": "424ab4c0-ed97-4ada-ede7-1c23ac6b7ea6"
      },
      "source": [
        "mobile_price_prediction[mobile_price_prediction.columns.difference(['price_range'])]"
      ],
      "execution_count": null,
      "outputs": [
        {
          "data": {
            "text/html": [
              "<div>\n",
              "<style scoped>\n",
              "    .dataframe tbody tr th:only-of-type {\n",
              "        vertical-align: middle;\n",
              "    }\n",
              "\n",
              "    .dataframe tbody tr th {\n",
              "        vertical-align: top;\n",
              "    }\n",
              "\n",
              "    .dataframe thead th {\n",
              "        text-align: right;\n",
              "    }\n",
              "</style>\n",
              "<table border=\"1\" class=\"dataframe\">\n",
              "  <thead>\n",
              "    <tr style=\"text-align: right;\">\n",
              "      <th></th>\n",
              "      <th>battery_power</th>\n",
              "      <th>blue</th>\n",
              "      <th>clock_speed</th>\n",
              "      <th>dual_sim</th>\n",
              "      <th>fc</th>\n",
              "      <th>four_g</th>\n",
              "      <th>int_memory</th>\n",
              "      <th>m_dep</th>\n",
              "      <th>mobile_wt</th>\n",
              "      <th>n_cores</th>\n",
              "      <th>pc</th>\n",
              "      <th>px_height</th>\n",
              "      <th>px_width</th>\n",
              "      <th>ram</th>\n",
              "      <th>sc_h</th>\n",
              "      <th>sc_w</th>\n",
              "      <th>talk_time</th>\n",
              "      <th>three_g</th>\n",
              "      <th>touch_screen</th>\n",
              "      <th>wifi</th>\n",
              "    </tr>\n",
              "  </thead>\n",
              "  <tbody>\n",
              "    <tr>\n",
              "      <th>0</th>\n",
              "      <td>842</td>\n",
              "      <td>0</td>\n",
              "      <td>2.2</td>\n",
              "      <td>0</td>\n",
              "      <td>1</td>\n",
              "      <td>0</td>\n",
              "      <td>7</td>\n",
              "      <td>0.6</td>\n",
              "      <td>188</td>\n",
              "      <td>2</td>\n",
              "      <td>2</td>\n",
              "      <td>20</td>\n",
              "      <td>756</td>\n",
              "      <td>2549</td>\n",
              "      <td>9</td>\n",
              "      <td>7</td>\n",
              "      <td>19</td>\n",
              "      <td>0</td>\n",
              "      <td>0</td>\n",
              "      <td>1</td>\n",
              "    </tr>\n",
              "    <tr>\n",
              "      <th>1</th>\n",
              "      <td>1021</td>\n",
              "      <td>1</td>\n",
              "      <td>0.5</td>\n",
              "      <td>1</td>\n",
              "      <td>0</td>\n",
              "      <td>1</td>\n",
              "      <td>53</td>\n",
              "      <td>0.7</td>\n",
              "      <td>136</td>\n",
              "      <td>3</td>\n",
              "      <td>6</td>\n",
              "      <td>905</td>\n",
              "      <td>1988</td>\n",
              "      <td>2631</td>\n",
              "      <td>17</td>\n",
              "      <td>3</td>\n",
              "      <td>7</td>\n",
              "      <td>1</td>\n",
              "      <td>1</td>\n",
              "      <td>0</td>\n",
              "    </tr>\n",
              "    <tr>\n",
              "      <th>2</th>\n",
              "      <td>563</td>\n",
              "      <td>1</td>\n",
              "      <td>0.5</td>\n",
              "      <td>1</td>\n",
              "      <td>2</td>\n",
              "      <td>1</td>\n",
              "      <td>41</td>\n",
              "      <td>0.9</td>\n",
              "      <td>145</td>\n",
              "      <td>5</td>\n",
              "      <td>6</td>\n",
              "      <td>1263</td>\n",
              "      <td>1716</td>\n",
              "      <td>2603</td>\n",
              "      <td>11</td>\n",
              "      <td>2</td>\n",
              "      <td>9</td>\n",
              "      <td>1</td>\n",
              "      <td>1</td>\n",
              "      <td>0</td>\n",
              "    </tr>\n",
              "    <tr>\n",
              "      <th>3</th>\n",
              "      <td>615</td>\n",
              "      <td>1</td>\n",
              "      <td>2.5</td>\n",
              "      <td>0</td>\n",
              "      <td>0</td>\n",
              "      <td>0</td>\n",
              "      <td>10</td>\n",
              "      <td>0.8</td>\n",
              "      <td>131</td>\n",
              "      <td>6</td>\n",
              "      <td>9</td>\n",
              "      <td>1216</td>\n",
              "      <td>1786</td>\n",
              "      <td>2769</td>\n",
              "      <td>16</td>\n",
              "      <td>8</td>\n",
              "      <td>11</td>\n",
              "      <td>1</td>\n",
              "      <td>0</td>\n",
              "      <td>0</td>\n",
              "    </tr>\n",
              "    <tr>\n",
              "      <th>4</th>\n",
              "      <td>1821</td>\n",
              "      <td>1</td>\n",
              "      <td>1.2</td>\n",
              "      <td>0</td>\n",
              "      <td>13</td>\n",
              "      <td>1</td>\n",
              "      <td>44</td>\n",
              "      <td>0.6</td>\n",
              "      <td>141</td>\n",
              "      <td>2</td>\n",
              "      <td>14</td>\n",
              "      <td>1208</td>\n",
              "      <td>1212</td>\n",
              "      <td>1411</td>\n",
              "      <td>8</td>\n",
              "      <td>2</td>\n",
              "      <td>15</td>\n",
              "      <td>1</td>\n",
              "      <td>1</td>\n",
              "      <td>0</td>\n",
              "    </tr>\n",
              "    <tr>\n",
              "      <th>...</th>\n",
              "      <td>...</td>\n",
              "      <td>...</td>\n",
              "      <td>...</td>\n",
              "      <td>...</td>\n",
              "      <td>...</td>\n",
              "      <td>...</td>\n",
              "      <td>...</td>\n",
              "      <td>...</td>\n",
              "      <td>...</td>\n",
              "      <td>...</td>\n",
              "      <td>...</td>\n",
              "      <td>...</td>\n",
              "      <td>...</td>\n",
              "      <td>...</td>\n",
              "      <td>...</td>\n",
              "      <td>...</td>\n",
              "      <td>...</td>\n",
              "      <td>...</td>\n",
              "      <td>...</td>\n",
              "      <td>...</td>\n",
              "    </tr>\n",
              "    <tr>\n",
              "      <th>1995</th>\n",
              "      <td>794</td>\n",
              "      <td>1</td>\n",
              "      <td>0.5</td>\n",
              "      <td>1</td>\n",
              "      <td>0</td>\n",
              "      <td>1</td>\n",
              "      <td>2</td>\n",
              "      <td>0.8</td>\n",
              "      <td>106</td>\n",
              "      <td>6</td>\n",
              "      <td>14</td>\n",
              "      <td>1222</td>\n",
              "      <td>1890</td>\n",
              "      <td>668</td>\n",
              "      <td>13</td>\n",
              "      <td>4</td>\n",
              "      <td>19</td>\n",
              "      <td>1</td>\n",
              "      <td>1</td>\n",
              "      <td>0</td>\n",
              "    </tr>\n",
              "    <tr>\n",
              "      <th>1996</th>\n",
              "      <td>1965</td>\n",
              "      <td>1</td>\n",
              "      <td>2.6</td>\n",
              "      <td>1</td>\n",
              "      <td>0</td>\n",
              "      <td>0</td>\n",
              "      <td>39</td>\n",
              "      <td>0.2</td>\n",
              "      <td>187</td>\n",
              "      <td>4</td>\n",
              "      <td>3</td>\n",
              "      <td>915</td>\n",
              "      <td>1965</td>\n",
              "      <td>2032</td>\n",
              "      <td>11</td>\n",
              "      <td>10</td>\n",
              "      <td>16</td>\n",
              "      <td>1</td>\n",
              "      <td>1</td>\n",
              "      <td>1</td>\n",
              "    </tr>\n",
              "    <tr>\n",
              "      <th>1997</th>\n",
              "      <td>1911</td>\n",
              "      <td>0</td>\n",
              "      <td>0.9</td>\n",
              "      <td>1</td>\n",
              "      <td>1</td>\n",
              "      <td>1</td>\n",
              "      <td>36</td>\n",
              "      <td>0.7</td>\n",
              "      <td>108</td>\n",
              "      <td>8</td>\n",
              "      <td>3</td>\n",
              "      <td>868</td>\n",
              "      <td>1632</td>\n",
              "      <td>3057</td>\n",
              "      <td>9</td>\n",
              "      <td>1</td>\n",
              "      <td>5</td>\n",
              "      <td>1</td>\n",
              "      <td>1</td>\n",
              "      <td>0</td>\n",
              "    </tr>\n",
              "    <tr>\n",
              "      <th>1998</th>\n",
              "      <td>1512</td>\n",
              "      <td>0</td>\n",
              "      <td>0.9</td>\n",
              "      <td>0</td>\n",
              "      <td>4</td>\n",
              "      <td>1</td>\n",
              "      <td>46</td>\n",
              "      <td>0.1</td>\n",
              "      <td>145</td>\n",
              "      <td>5</td>\n",
              "      <td>5</td>\n",
              "      <td>336</td>\n",
              "      <td>670</td>\n",
              "      <td>869</td>\n",
              "      <td>18</td>\n",
              "      <td>10</td>\n",
              "      <td>19</td>\n",
              "      <td>1</td>\n",
              "      <td>1</td>\n",
              "      <td>1</td>\n",
              "    </tr>\n",
              "    <tr>\n",
              "      <th>1999</th>\n",
              "      <td>510</td>\n",
              "      <td>1</td>\n",
              "      <td>2.0</td>\n",
              "      <td>1</td>\n",
              "      <td>5</td>\n",
              "      <td>1</td>\n",
              "      <td>45</td>\n",
              "      <td>0.9</td>\n",
              "      <td>168</td>\n",
              "      <td>6</td>\n",
              "      <td>16</td>\n",
              "      <td>483</td>\n",
              "      <td>754</td>\n",
              "      <td>3919</td>\n",
              "      <td>19</td>\n",
              "      <td>4</td>\n",
              "      <td>2</td>\n",
              "      <td>1</td>\n",
              "      <td>1</td>\n",
              "      <td>1</td>\n",
              "    </tr>\n",
              "  </tbody>\n",
              "</table>\n",
              "<p>2000 rows × 20 columns</p>\n",
              "</div>"
            ],
            "text/plain": [
              "      battery_power  blue  clock_speed  ...  three_g  touch_screen  wifi\n",
              "0               842     0          2.2  ...        0             0     1\n",
              "1              1021     1          0.5  ...        1             1     0\n",
              "2               563     1          0.5  ...        1             1     0\n",
              "3               615     1          2.5  ...        1             0     0\n",
              "4              1821     1          1.2  ...        1             1     0\n",
              "...             ...   ...          ...  ...      ...           ...   ...\n",
              "1995            794     1          0.5  ...        1             1     0\n",
              "1996           1965     1          2.6  ...        1             1     1\n",
              "1997           1911     0          0.9  ...        1             1     0\n",
              "1998           1512     0          0.9  ...        1             1     1\n",
              "1999            510     1          2.0  ...        1             1     1\n",
              "\n",
              "[2000 rows x 20 columns]"
            ]
          },
          "execution_count": 34,
          "metadata": {},
          "output_type": "execute_result"
        }
      ]
    },
    {
      "cell_type": "code",
      "metadata": {
        "id": "ryGAVsWxWl10"
      },
      "source": [
        "train_X,test_X,train_y,test_y = train_test_split(mobile_price_prediction[mobile_price_prediction.columns.difference(['price_range'])],\n",
        "                                                 mobile_price_prediction['price_range'],\n",
        "                                                test_size=0.3,random_state=0)"
      ],
      "execution_count": null,
      "outputs": []
    },
    {
      "cell_type": "code",
      "metadata": {
        "colab": {
          "base_uri": "https://localhost:8080/"
        },
        "id": "dM5qmSa4XLVd",
        "outputId": "f1238ce6-059e-4601-f9aa-c2dcf07268d8"
      },
      "source": [
        "train_X.shape"
      ],
      "execution_count": null,
      "outputs": [
        {
          "data": {
            "text/plain": [
              "(1400, 20)"
            ]
          },
          "execution_count": 36,
          "metadata": {},
          "output_type": "execute_result"
        }
      ]
    },
    {
      "cell_type": "markdown",
      "metadata": {
        "id": "gXS5LYXTXe63"
      },
      "source": [
        "#standardizing train set"
      ]
    },
    {
      "cell_type": "code",
      "metadata": {
        "colab": {
          "base_uri": "https://localhost:8080/",
          "height": 833
        },
        "id": "DpheOLRZYVEf",
        "outputId": "66beedfb-fab0-4cbb-e388-0965e836afd9"
      },
      "source": [
        "import statsmodels.api as sm\n",
        "train_X_stats=sm.add_constant(train_X)\n",
        "test_X_stats=sm.add_constant(test_X)\n",
        "lm=sm.OLS(train_y,train_X).fit()\n",
        "lm.summary()"
      ],
      "execution_count": null,
      "outputs": [
        {
          "data": {
            "text/html": [
              "<table class=\"simpletable\">\n",
              "<caption>OLS Regression Results</caption>\n",
              "<tr>\n",
              "  <th>Dep. Variable:</th>       <td>price_range</td>   <th>  R-squared (uncentered):</th>      <td>   0.960</td>\n",
              "</tr>\n",
              "<tr>\n",
              "  <th>Model:</th>                   <td>OLS</td>       <th>  Adj. R-squared (uncentered):</th> <td>   0.960</td>\n",
              "</tr>\n",
              "<tr>\n",
              "  <th>Method:</th>             <td>Least Squares</td>  <th>  F-statistic:       </th>          <td>   1660.</td>\n",
              "</tr>\n",
              "<tr>\n",
              "  <th>Date:</th>             <td>Sun, 05 Sep 2021</td> <th>  Prob (F-statistic):</th>           <td>  0.00</td> \n",
              "</tr>\n",
              "<tr>\n",
              "  <th>Time:</th>                 <td>05:36:40</td>     <th>  Log-Likelihood:    </th>          <td> -593.23</td>\n",
              "</tr>\n",
              "<tr>\n",
              "  <th>No. Observations:</th>      <td>  1400</td>      <th>  AIC:               </th>          <td>   1226.</td>\n",
              "</tr>\n",
              "<tr>\n",
              "  <th>Df Residuals:</th>          <td>  1380</td>      <th>  BIC:               </th>          <td>   1331.</td>\n",
              "</tr>\n",
              "<tr>\n",
              "  <th>Df Model:</th>              <td>    20</td>      <th>                     </th>              <td> </td>   \n",
              "</tr>\n",
              "<tr>\n",
              "  <th>Covariance Type:</th>      <td>nonrobust</td>    <th>                     </th>              <td> </td>   \n",
              "</tr>\n",
              "</table>\n",
              "<table class=\"simpletable\">\n",
              "<tr>\n",
              "        <td></td>           <th>coef</th>     <th>std err</th>      <th>t</th>      <th>P>|t|</th>  <th>[0.025</th>    <th>0.975]</th>  \n",
              "</tr>\n",
              "<tr>\n",
              "  <th>battery_power</th> <td>    0.0004</td> <td> 2.16e-05</td> <td>   17.779</td> <td> 0.000</td> <td>    0.000</td> <td>    0.000</td>\n",
              "</tr>\n",
              "<tr>\n",
              "  <th>blue</th>          <td>   -0.0378</td> <td>    0.020</td> <td>   -1.901</td> <td> 0.057</td> <td>   -0.077</td> <td>    0.001</td>\n",
              "</tr>\n",
              "<tr>\n",
              "  <th>clock_speed</th>   <td>   -0.0676</td> <td>    0.012</td> <td>   -5.700</td> <td> 0.000</td> <td>   -0.091</td> <td>   -0.044</td>\n",
              "</tr>\n",
              "<tr>\n",
              "  <th>dual_sim</th>      <td>   -0.0848</td> <td>    0.020</td> <td>   -4.270</td> <td> 0.000</td> <td>   -0.124</td> <td>   -0.046</td>\n",
              "</tr>\n",
              "<tr>\n",
              "  <th>fc</th>            <td>    0.0012</td> <td>    0.003</td> <td>    0.397</td> <td> 0.692</td> <td>   -0.005</td> <td>    0.007</td>\n",
              "</tr>\n",
              "<tr>\n",
              "  <th>four_g</th>        <td>   -0.0137</td> <td>    0.025</td> <td>   -0.556</td> <td> 0.578</td> <td>   -0.062</td> <td>    0.035</td>\n",
              "</tr>\n",
              "<tr>\n",
              "  <th>int_memory</th>    <td>   -0.0010</td> <td>    0.001</td> <td>   -1.943</td> <td> 0.052</td> <td>   -0.002</td> <td> 1.01e-05</td>\n",
              "</tr>\n",
              "<tr>\n",
              "  <th>m_dep</th>         <td>   -0.1211</td> <td>    0.034</td> <td>   -3.548</td> <td> 0.000</td> <td>   -0.188</td> <td>   -0.054</td>\n",
              "</tr>\n",
              "<tr>\n",
              "  <th>mobile_wt</th>     <td>   -0.0033</td> <td>    0.000</td> <td>  -13.245</td> <td> 0.000</td> <td>   -0.004</td> <td>   -0.003</td>\n",
              "</tr>\n",
              "<tr>\n",
              "  <th>n_cores</th>       <td>   -0.0146</td> <td>    0.004</td> <td>   -3.390</td> <td> 0.001</td> <td>   -0.023</td> <td>   -0.006</td>\n",
              "</tr>\n",
              "<tr>\n",
              "  <th>pc</th>            <td>   -0.0071</td> <td>    0.002</td> <td>   -3.347</td> <td> 0.001</td> <td>   -0.011</td> <td>   -0.003</td>\n",
              "</tr>\n",
              "<tr>\n",
              "  <th>px_height</th>     <td>    0.0003</td> <td> 2.61e-05</td> <td>   11.358</td> <td> 0.000</td> <td>    0.000</td> <td>    0.000</td>\n",
              "</tr>\n",
              "<tr>\n",
              "  <th>px_width</th>      <td>    0.0001</td> <td> 2.58e-05</td> <td>    5.510</td> <td> 0.000</td> <td> 9.17e-05</td> <td>    0.000</td>\n",
              "</tr>\n",
              "<tr>\n",
              "  <th>ram</th>           <td>    0.0009</td> <td> 9.11e-06</td> <td>   99.868</td> <td> 0.000</td> <td>    0.001</td> <td>    0.001</td>\n",
              "</tr>\n",
              "<tr>\n",
              "  <th>sc_h</th>          <td>   -0.0189</td> <td>    0.003</td> <td>   -7.156</td> <td> 0.000</td> <td>   -0.024</td> <td>   -0.014</td>\n",
              "</tr>\n",
              "<tr>\n",
              "  <th>sc_w</th>          <td>    0.0044</td> <td>    0.003</td> <td>    1.677</td> <td> 0.094</td> <td>   -0.001</td> <td>    0.010</td>\n",
              "</tr>\n",
              "<tr>\n",
              "  <th>talk_time</th>     <td>   -0.0078</td> <td>    0.002</td> <td>   -4.414</td> <td> 0.000</td> <td>   -0.011</td> <td>   -0.004</td>\n",
              "</tr>\n",
              "<tr>\n",
              "  <th>three_g</th>       <td>   -0.0696</td> <td>    0.029</td> <td>   -2.439</td> <td> 0.015</td> <td>   -0.126</td> <td>   -0.014</td>\n",
              "</tr>\n",
              "<tr>\n",
              "  <th>touch_screen</th>  <td>   -0.0556</td> <td>    0.020</td> <td>   -2.795</td> <td> 0.005</td> <td>   -0.095</td> <td>   -0.017</td>\n",
              "</tr>\n",
              "<tr>\n",
              "  <th>wifi</th>          <td>   -0.0585</td> <td>    0.020</td> <td>   -2.937</td> <td> 0.003</td> <td>   -0.098</td> <td>   -0.019</td>\n",
              "</tr>\n",
              "</table>\n",
              "<table class=\"simpletable\">\n",
              "<tr>\n",
              "  <th>Omnibus:</th>       <td>14.688</td> <th>  Durbin-Watson:     </th> <td>   2.013</td>\n",
              "</tr>\n",
              "<tr>\n",
              "  <th>Prob(Omnibus):</th> <td> 0.001</td> <th>  Jarque-Bera (JB):  </th> <td>  10.288</td>\n",
              "</tr>\n",
              "<tr>\n",
              "  <th>Skew:</th>          <td> 0.079</td> <th>  Prob(JB):          </th> <td> 0.00583</td>\n",
              "</tr>\n",
              "<tr>\n",
              "  <th>Kurtosis:</th>      <td> 2.611</td> <th>  Cond. No.          </th> <td>1.02e+04</td>\n",
              "</tr>\n",
              "</table><br/><br/>Warnings:<br/>[1] Standard Errors assume that the covariance matrix of the errors is correctly specified.<br/>[2] The condition number is large, 1.02e+04. This might indicate that there are<br/>strong multicollinearity or other numerical problems."
            ],
            "text/plain": [
              "<class 'statsmodels.iolib.summary.Summary'>\n",
              "\"\"\"\n",
              "                                 OLS Regression Results                                \n",
              "=======================================================================================\n",
              "Dep. Variable:            price_range   R-squared (uncentered):                   0.960\n",
              "Model:                            OLS   Adj. R-squared (uncentered):              0.960\n",
              "Method:                 Least Squares   F-statistic:                              1660.\n",
              "Date:                Sun, 05 Sep 2021   Prob (F-statistic):                        0.00\n",
              "Time:                        05:36:40   Log-Likelihood:                         -593.23\n",
              "No. Observations:                1400   AIC:                                      1226.\n",
              "Df Residuals:                    1380   BIC:                                      1331.\n",
              "Df Model:                          20                                                  \n",
              "Covariance Type:            nonrobust                                                  \n",
              "=================================================================================\n",
              "                    coef    std err          t      P>|t|      [0.025      0.975]\n",
              "---------------------------------------------------------------------------------\n",
              "battery_power     0.0004   2.16e-05     17.779      0.000       0.000       0.000\n",
              "blue             -0.0378      0.020     -1.901      0.057      -0.077       0.001\n",
              "clock_speed      -0.0676      0.012     -5.700      0.000      -0.091      -0.044\n",
              "dual_sim         -0.0848      0.020     -4.270      0.000      -0.124      -0.046\n",
              "fc                0.0012      0.003      0.397      0.692      -0.005       0.007\n",
              "four_g           -0.0137      0.025     -0.556      0.578      -0.062       0.035\n",
              "int_memory       -0.0010      0.001     -1.943      0.052      -0.002    1.01e-05\n",
              "m_dep            -0.1211      0.034     -3.548      0.000      -0.188      -0.054\n",
              "mobile_wt        -0.0033      0.000    -13.245      0.000      -0.004      -0.003\n",
              "n_cores          -0.0146      0.004     -3.390      0.001      -0.023      -0.006\n",
              "pc               -0.0071      0.002     -3.347      0.001      -0.011      -0.003\n",
              "px_height         0.0003   2.61e-05     11.358      0.000       0.000       0.000\n",
              "px_width          0.0001   2.58e-05      5.510      0.000    9.17e-05       0.000\n",
              "ram               0.0009   9.11e-06     99.868      0.000       0.001       0.001\n",
              "sc_h             -0.0189      0.003     -7.156      0.000      -0.024      -0.014\n",
              "sc_w              0.0044      0.003      1.677      0.094      -0.001       0.010\n",
              "talk_time        -0.0078      0.002     -4.414      0.000      -0.011      -0.004\n",
              "three_g          -0.0696      0.029     -2.439      0.015      -0.126      -0.014\n",
              "touch_screen     -0.0556      0.020     -2.795      0.005      -0.095      -0.017\n",
              "wifi             -0.0585      0.020     -2.937      0.003      -0.098      -0.019\n",
              "==============================================================================\n",
              "Omnibus:                       14.688   Durbin-Watson:                   2.013\n",
              "Prob(Omnibus):                  0.001   Jarque-Bera (JB):               10.288\n",
              "Skew:                           0.079   Prob(JB):                      0.00583\n",
              "Kurtosis:                       2.611   Cond. No.                     1.02e+04\n",
              "==============================================================================\n",
              "\n",
              "Warnings:\n",
              "[1] Standard Errors assume that the covariance matrix of the errors is correctly specified.\n",
              "[2] The condition number is large, 1.02e+04. This might indicate that there are\n",
              "strong multicollinearity or other numerical problems.\n",
              "\"\"\""
            ]
          },
          "execution_count": 37,
          "metadata": {},
          "output_type": "execute_result"
        }
      ]
    },
    {
      "cell_type": "markdown",
      "metadata": {
        "id": "1B1Pffx2ap5M"
      },
      "source": [
        "#linear regression for predicting the labels "
      ]
    },
    {
      "cell_type": "code",
      "metadata": {
        "colab": {
          "base_uri": "https://localhost:8080/"
        },
        "id": "NtwqnpoOZhnk",
        "outputId": "843edbe3-0c11-45e0-8f5c-fc0a3511f8ed"
      },
      "source": [
        "test_pred=lm.predict(test_X)\n",
        "train_pred=lm.predict(train_X)\n",
        "\n",
        "from sklearn import metrics\n",
        "\n",
        "print('MSE Test:',metrics.mean_squared_error(test_y,test_pred))\n",
        "print('MSE Train:',metrics.mean_squared_error(train_y,train_pred))"
      ],
      "execution_count": null,
      "outputs": [
        {
          "name": "stdout",
          "output_type": "stream",
          "text": [
            "MSE Test: 0.13409654500137336\n",
            "MSE Train: 0.13664019175121214\n"
          ]
        }
      ]
    },
    {
      "cell_type": "code",
      "metadata": {
        "colab": {
          "base_uri": "https://localhost:8080/",
          "height": 486
        },
        "id": "UlBiMxOnav9D",
        "outputId": "b7ea69a3-14a6-482a-eb90-ef51f5730c27"
      },
      "source": [
        "# Apply Linear regression\n",
        "lm = LinearRegression()\n",
        "lm.fit(train_X, train_y)\n",
        "\n",
        "#Prediction\n",
        "Y_pred = lm.predict(test_X)\n",
        "\n",
        "\n",
        "# Scatter plot Y_test vs Y_predicted\n",
        "plt.figure(figsize=(9, 5))\n",
        "plt.scatter(test_y, Y_pred)\n",
        "\n",
        "plt.xlabel(\"Weights: $Y_i$\")\n",
        "plt.ylabel(\"Predicted weights: $\\hat{Y}_i$\")\n",
        "plt.title(\"weights vs Predicted weights: $Y_i$ vs $\\hat{Y}_i$\")\n",
        "plt.show()"
      ],
      "execution_count": null,
      "outputs": [
        {
          "data": {
            "image/png": "[encoded data removed]",
            "text/plain": [
              "<Figure size 900x500 with 1 Axes>"
            ]
          },
          "metadata": {},
          "output_type": "display_data"
        }
      ]
    },
    {
      "cell_type": "markdown",
      "metadata": {
        "id": "dNe5YgIkbPW-"
      },
      "source": [
        "checking the normality of the residuals"
      ]
    },
    {
      "cell_type": "code",
      "metadata": {
        "colab": {
          "base_uri": "https://localhost:8080/",
          "height": 476
        },
        "id": "B-uEMccPa-Vk",
        "outputId": "c852930b-e8b2-4dd2-eb77-78fc5c5d6e2c"
      },
      "source": [
        "delta_y = test_y - Y_pred\n",
        "plt.figure(figsize=(9, 5))\n",
        "sns.distplot(delta_y)"
      ],
      "execution_count": null,
      "outputs": [
        {
          "data": {
            "text/plain": [
              "<matplotlib.axes._subplots.AxesSubplot at 0x7f511a9e1c50>"
            ]
          },
          "execution_count": 40,
          "metadata": {},
          "output_type": "execute_result"
        },
        {
          "data": {
            "image/png": "[encoded data removed]",
            "text/plain": [
              "<Figure size 900x500 with 1 Axes>"
            ]
          },
          "metadata": {},
          "output_type": "display_data"
        }
      ]
    },
    {
      "cell_type": "markdown",
      "metadata": {
        "id": "ZzVN-M-HeaEX"
      },
      "source": [
        "Checking homoscadicity"
      ]
    },
    {
      "cell_type": "code",
      "metadata": {
        "colab": {
          "base_uri": "https://localhost:8080/",
          "height": 457
        },
        "id": "znRR7jIObTsX",
        "outputId": "5af461d8-1c77-42eb-e716-cd73f1b47d65"
      },
      "source": [
        "data_plot = pd.DataFrame({\"predicted_values\":Y_pred, \"residual\":delta_y})\n",
        "plt.figure(figsize=(9, 5))\n",
        "sns.scatterplot(x = \"predicted_values\", y = \"residual\", data=data_plot)\n",
        "plt.show()\n"
      ],
      "execution_count": null,
      "outputs": [
        {
          "data": {
            "image/png": "[encoded data removed]",
            "text/plain": [
              "<Figure size 900x500 with 1 Axes>"
            ]
          },
          "metadata": {},
          "output_type": "display_data"
        }
      ]
    },
    {
      "cell_type": "markdown",
      "metadata": {
        "id": "MRaQqH3deoj-"
      },
      "source": [
        "#Decision Trees"
      ]
    },
    {
      "cell_type": "code",
      "metadata": {
        "id": "12B4Mn5-2GMd"
      },
      "source": [
        "train_X,test_X,train_y,test_y = train_test_split(mobile_price_prediction[mobile_price_prediction.columns.difference(['price_range'])],\n",
        "                                                 mobile_price_prediction['price_range'],\n",
        "                                                test_size=0.3,random_state=0)"
      ],
      "execution_count": null,
      "outputs": []
    },
    {
      "cell_type": "code",
      "metadata": {
        "colab": {
          "base_uri": "https://localhost:8080/"
        },
        "id": "u8C-DLb6eNW2",
        "outputId": "5b7d740c-26dd-46e1-8404-6ad0b3330e27"
      },
      "source": [
        "from sklearn.tree import DecisionTreeClassifier, export_graphviz\n",
        "from sklearn import tree\n",
        "from IPython.display import SVG\n",
        "from graphviz import Source\n",
        "from IPython.display import display\n",
        "from sklearn.model_selection import GridSearchCV\n",
        "price_classifier = DecisionTreeClassifier(criterion='gini')\n",
        "tuned_parameters = {\"max_depth\": [3, 5, 7, 9, 11, 13], \"max_leaf_nodes\": [19, 21, 23, 25]}\n",
        "price_classifier = GridSearchCV(price_classifier,\n",
        "                   tuned_parameters,\n",
        "                   cv=5,\n",
        "                   scoring='accuracy')\n",
        "price_classifier.fit(train_X, train_y)"
      ],
      "execution_count": null,
      "outputs": [
        {
          "data": {
            "text/plain": [
              "GridSearchCV(cv=5, error_score=nan,\n",
              "             estimator=DecisionTreeClassifier(ccp_alpha=0.0, class_weight=None,\n",
              "                                              criterion='gini', max_depth=None,\n",
              "                                              max_features=None,\n",
              "                                              max_leaf_nodes=None,\n",
              "                                              min_impurity_decrease=0.0,\n",
              "                                              min_impurity_split=None,\n",
              "                                              min_samples_leaf=1,\n",
              "                                              min_samples_split=2,\n",
              "                                              min_weight_fraction_leaf=0.0,\n",
              "                                              presort='deprecated',\n",
              "                                              random_state=None,\n",
              "                                              splitter='best'),\n",
              "             iid='deprecated', n_jobs=None,\n",
              "             param_grid={'max_depth': [3, 5, 7, 9, 11, 13],\n",
              "                         'max_leaf_nodes': [19, 21, 23, 25]},\n",
              "             pre_dispatch='2*n_jobs', refit=True, return_train_score=False,\n",
              "             scoring='accuracy', verbose=0)"
            ]
          },
          "execution_count": 45,
          "metadata": {},
          "output_type": "execute_result"
        }
      ]
    },
    {
      "cell_type": "code",
      "metadata": {
        "colab": {
          "base_uri": "https://localhost:8080/"
        },
        "id": "lskUMDoW4h-y",
        "outputId": "f0fdf795-7a44-4702-f453-60742fe553bd"
      },
      "source": [
        "price_classifier.best_params_"
      ],
      "execution_count": null,
      "outputs": [
        {
          "data": {
            "text/plain": [
              "{'max_depth': 9, 'max_leaf_nodes': 23}"
            ]
          },
          "execution_count": 46,
          "metadata": {},
          "output_type": "execute_result"
        }
      ]
    },
    {
      "cell_type": "code",
      "metadata": {
        "colab": {
          "base_uri": "https://localhost:8080/"
        },
        "id": "oixou39D4l8I",
        "outputId": "d848126a-6575-4432-fa7f-9fcb430c2610"
      },
      "source": [
        "price_classifier = DecisionTreeClassifier(criterion='gini', max_leaf_nodes=23, max_depth= 7)\n",
        "price_classifier.fit(train_X, train_y)"
      ],
      "execution_count": null,
      "outputs": [
        {
          "data": {
            "text/plain": [
              "DecisionTreeClassifier(ccp_alpha=0.0, class_weight=None, criterion='gini',\n",
              "                       max_depth=7, max_features=None, max_leaf_nodes=23,\n",
              "                       min_impurity_decrease=0.0, min_impurity_split=None,\n",
              "                       min_samples_leaf=1, min_samples_split=2,\n",
              "                       min_weight_fraction_leaf=0.0, presort='deprecated',\n",
              "                       random_state=None, splitter='best')"
            ]
          },
          "execution_count": 47,
          "metadata": {},
          "output_type": "execute_result"
        }
      ]
    },
    {
      "cell_type": "code",
      "metadata": {
        "id": "xX4GM3-Ve28Y"
      },
      "source": [
        "y_test_prediction= price_classifier.predict(test_X)"
      ],
      "execution_count": null,
      "outputs": []
    },
    {
      "cell_type": "code",
      "metadata": {
        "id": "S1waKwGd6BXV"
      },
      "source": [
        "y_train_prediction = price_classifier.predict(train_X)"
      ],
      "execution_count": null,
      "outputs": []
    },
    {
      "cell_type": "code",
      "metadata": {
        "id": "qUq1fsDTfrjX"
      },
      "source": [
        "from sklearn.metrics import classification_report"
      ],
      "execution_count": null,
      "outputs": []
    },
    {
      "cell_type": "code",
      "metadata": {
        "colab": {
          "base_uri": "https://localhost:8080/",
          "height": 265
        },
        "id": "dpoPGFjLfB5V",
        "outputId": "9f19f5a9-d469-4ae9-e570-0142e9fa8d63"
      },
      "source": [
        "reportDtree = classification_report(test_y, y_test_prediction, output_dict = True)\n",
        "\n",
        "crLReg = pd.DataFrame(reportDtree).transpose()\n",
        "\n",
        "crLReg"
      ],
      "execution_count": null,
      "outputs": [
        {
          "data": {
            "text/html": [
              "<div>\n",
              "<style scoped>\n",
              "    .dataframe tbody tr th:only-of-type {\n",
              "        vertical-align: middle;\n",
              "    }\n",
              "\n",
              "    .dataframe tbody tr th {\n",
              "        vertical-align: top;\n",
              "    }\n",
              "\n",
              "    .dataframe thead th {\n",
              "        text-align: right;\n",
              "    }\n",
              "</style>\n",
              "<table border=\"1\" class=\"dataframe\">\n",
              "  <thead>\n",
              "    <tr style=\"text-align: right;\">\n",
              "      <th></th>\n",
              "      <th>precision</th>\n",
              "      <th>recall</th>\n",
              "      <th>f1-score</th>\n",
              "      <th>support</th>\n",
              "    </tr>\n",
              "  </thead>\n",
              "  <tbody>\n",
              "    <tr>\n",
              "      <th>0</th>\n",
              "      <td>0.926667</td>\n",
              "      <td>0.920530</td>\n",
              "      <td>0.923588</td>\n",
              "      <td>151.000000</td>\n",
              "    </tr>\n",
              "    <tr>\n",
              "      <th>1</th>\n",
              "      <td>0.796875</td>\n",
              "      <td>0.755556</td>\n",
              "      <td>0.775665</td>\n",
              "      <td>135.000000</td>\n",
              "    </tr>\n",
              "    <tr>\n",
              "      <th>2</th>\n",
              "      <td>0.751773</td>\n",
              "      <td>0.701987</td>\n",
              "      <td>0.726027</td>\n",
              "      <td>151.000000</td>\n",
              "    </tr>\n",
              "    <tr>\n",
              "      <th>3</th>\n",
              "      <td>0.828729</td>\n",
              "      <td>0.920245</td>\n",
              "      <td>0.872093</td>\n",
              "      <td>163.000000</td>\n",
              "    </tr>\n",
              "    <tr>\n",
              "      <th>accuracy</th>\n",
              "      <td>0.828333</td>\n",
              "      <td>0.828333</td>\n",
              "      <td>0.828333</td>\n",
              "      <td>0.828333</td>\n",
              "    </tr>\n",
              "    <tr>\n",
              "      <th>macro avg</th>\n",
              "      <td>0.826011</td>\n",
              "      <td>0.824579</td>\n",
              "      <td>0.824343</td>\n",
              "      <td>600.000000</td>\n",
              "    </tr>\n",
              "    <tr>\n",
              "      <th>weighted avg</th>\n",
              "      <td>0.826842</td>\n",
              "      <td>0.828333</td>\n",
              "      <td>0.826597</td>\n",
              "      <td>600.000000</td>\n",
              "    </tr>\n",
              "  </tbody>\n",
              "</table>\n",
              "</div>"
            ],
            "text/plain": [
              "              precision    recall  f1-score     support\n",
              "0              0.926667  0.920530  0.923588  151.000000\n",
              "1              0.796875  0.755556  0.775665  135.000000\n",
              "2              0.751773  0.701987  0.726027  151.000000\n",
              "3              0.828729  0.920245  0.872093  163.000000\n",
              "accuracy       0.828333  0.828333  0.828333    0.828333\n",
              "macro avg      0.826011  0.824579  0.824343  600.000000\n",
              "weighted avg   0.826842  0.828333  0.826597  600.000000"
            ]
          },
          "execution_count": 51,
          "metadata": {},
          "output_type": "execute_result"
        }
      ]
    },
    {
      "cell_type": "code",
      "metadata": {
        "colab": {
          "base_uri": "https://localhost:8080/",
          "height": 265
        },
        "id": "waO5QNqg5yd5",
        "outputId": "80d9737d-4ca7-4a02-90f0-a8eba1de082a"
      },
      "source": [
        "reportDtree = classification_report(train_y, y_train_prediction, output_dict = True)\n",
        "\n",
        "crLReg = pd.DataFrame(reportDtree).transpose()\n",
        "\n",
        "crLReg"
      ],
      "execution_count": null,
      "outputs": [
        {
          "data": {
            "text/html": [
              "<div>\n",
              "<style scoped>\n",
              "    .dataframe tbody tr th:only-of-type {\n",
              "        vertical-align: middle;\n",
              "    }\n",
              "\n",
              "    .dataframe tbody tr th {\n",
              "        vertical-align: top;\n",
              "    }\n",
              "\n",
              "    .dataframe thead th {\n",
              "        text-align: right;\n",
              "    }\n",
              "</style>\n",
              "<table border=\"1\" class=\"dataframe\">\n",
              "  <thead>\n",
              "    <tr style=\"text-align: right;\">\n",
              "      <th></th>\n",
              "      <th>precision</th>\n",
              "      <th>recall</th>\n",
              "      <th>f1-score</th>\n",
              "      <th>support</th>\n",
              "    </tr>\n",
              "  </thead>\n",
              "  <tbody>\n",
              "    <tr>\n",
              "      <th>0</th>\n",
              "      <td>0.931624</td>\n",
              "      <td>0.936963</td>\n",
              "      <td>0.934286</td>\n",
              "      <td>349.000000</td>\n",
              "    </tr>\n",
              "    <tr>\n",
              "      <th>1</th>\n",
              "      <td>0.879310</td>\n",
              "      <td>0.838356</td>\n",
              "      <td>0.858345</td>\n",
              "      <td>365.000000</td>\n",
              "    </tr>\n",
              "    <tr>\n",
              "      <th>2</th>\n",
              "      <td>0.858824</td>\n",
              "      <td>0.836676</td>\n",
              "      <td>0.847605</td>\n",
              "      <td>349.000000</td>\n",
              "    </tr>\n",
              "    <tr>\n",
              "      <th>3</th>\n",
              "      <td>0.897507</td>\n",
              "      <td>0.961424</td>\n",
              "      <td>0.928367</td>\n",
              "      <td>337.000000</td>\n",
              "    </tr>\n",
              "    <tr>\n",
              "      <th>accuracy</th>\n",
              "      <td>0.892143</td>\n",
              "      <td>0.892143</td>\n",
              "      <td>0.892143</td>\n",
              "      <td>0.892143</td>\n",
              "    </tr>\n",
              "    <tr>\n",
              "      <th>macro avg</th>\n",
              "      <td>0.891816</td>\n",
              "      <td>0.893355</td>\n",
              "      <td>0.892151</td>\n",
              "      <td>1400.000000</td>\n",
              "    </tr>\n",
              "    <tr>\n",
              "      <th>weighted avg</th>\n",
              "      <td>0.891624</td>\n",
              "      <td>0.892143</td>\n",
              "      <td>0.891454</td>\n",
              "      <td>1400.000000</td>\n",
              "    </tr>\n",
              "  </tbody>\n",
              "</table>\n",
              "</div>"
            ],
            "text/plain": [
              "              precision    recall  f1-score      support\n",
              "0              0.931624  0.936963  0.934286   349.000000\n",
              "1              0.879310  0.838356  0.858345   365.000000\n",
              "2              0.858824  0.836676  0.847605   349.000000\n",
              "3              0.897507  0.961424  0.928367   337.000000\n",
              "accuracy       0.892143  0.892143  0.892143     0.892143\n",
              "macro avg      0.891816  0.893355  0.892151  1400.000000\n",
              "weighted avg   0.891624  0.892143  0.891454  1400.000000"
            ]
          },
          "execution_count": 52,
          "metadata": {},
          "output_type": "execute_result"
        }
      ]
    },
    {
      "cell_type": "code",
      "metadata": {
        "colab": {
          "base_uri": "https://localhost:8080/",
          "height": 1000
        },
        "id": "cbuhMreufJA3",
        "outputId": "1ac878d5-e802-4c5a-a37a-ff2ce42f68ba"
      },
      "source": [
        "graph = Source(tree.export_graphviz(price_classifier, out_file=None\n",
        "   , feature_names=train_X.columns, class_names=['0', '1','2','3'] \n",
        "   , filled = True))\n",
        "display(SVG(graph.pipe(format='svg')))"
      ],
      "execution_count": null,
      "outputs": [
        {
          "data": {
            "image/svg+xml": "<svg height=\"790pt\" viewBox=\"0.00 0.00 2061.00 790.00\" width=\"2061pt\" xmlns=\"http://www.w3.org/2000/svg\" xmlns:xlink=\"http://www.w3.org/1999/xlink\">\n<g class=\"graph\" id=\"graph0\" transform=\"scale(1 1) rotate(0) translate(4 786)\">\n<title>Tree</title>\n<polygon fill=\"#ffffff\" points=\"-4,4 -4,-786 2057,-786 2057,4 -4,4\" stroke=\"transparent\"/>\n<!-- 0 -->\n<g class=\"node\" id=\"node1\">\n<title>0</title>\n<polygon fill=\"#fcfffc\" points=\"1094,-782 909,-782 909,-699 1094,-699 1094,-782\" stroke=\"#000000\"/>\n<text fill=\"#000000\" font-family=\"Times,serif\" font-size=\"14.00\" text-anchor=\"middle\" x=\"1001.5\" y=\"-766.8\">ram &lt;= 2235.5</text>\n<text fill=\"#000000\" font-family=\"Times,serif\" font-size=\"14.00\" text-anchor=\"middle\" x=\"1001.5\" y=\"-751.8\">gini = 0.75</text>\n<text fill=\"#000000\" font-family=\"Times,serif\" font-size=\"14.00\" text-anchor=\"middle\" x=\"1001.5\" y=\"-736.8\">samples = 1400</text>\n<text fill=\"#000000\" font-family=\"Times,serif\" font-size=\"14.00\" text-anchor=\"middle\" x=\"1001.5\" y=\"-721.8\">value = [349, 365, 349, 337]</text>\n<text fill=\"#000000\" font-family=\"Times,serif\" font-size=\"14.00\" text-anchor=\"middle\" x=\"1001.5\" y=\"-706.8\">class = 1</text>\n</g>\n<!-- 1 -->\n<g class=\"node\" id=\"node2\">\n<title>1</title>\n<polygon fill=\"#fdf7f3\" points=\"771.5,-663 609.5,-663 609.5,-580 771.5,-580 771.5,-663\" stroke=\"#000000\"/>\n<text fill=\"#000000\" font-family=\"Times,serif\" font-size=\"14.00\" text-anchor=\"middle\" x=\"690.5\" y=\"-647.8\">ram &lt;= 1175.5</text>\n<text fill=\"#000000\" font-family=\"Times,serif\" font-size=\"14.00\" text-anchor=\"middle\" x=\"690.5\" y=\"-632.8\">gini = 0.583</text>\n<text fill=\"#000000\" font-family=\"Times,serif\" font-size=\"14.00\" text-anchor=\"middle\" x=\"690.5\" y=\"-617.8\">samples = 745</text>\n<text fill=\"#000000\" font-family=\"Times,serif\" font-size=\"14.00\" text-anchor=\"middle\" x=\"690.5\" y=\"-602.8\">value = [349, 323, 73, 0]</text>\n<text fill=\"#000000\" font-family=\"Times,serif\" font-size=\"14.00\" text-anchor=\"middle\" x=\"690.5\" y=\"-587.8\">class = 0</text>\n</g>\n<!-- 0&#45;&gt;1 -->\n<g class=\"edge\" id=\"edge1\">\n<title>0-&gt;1</title>\n<path d=\"M908.611,-704.9573C868.2624,-689.5184 821.1622,-671.4961 781.0774,-656.1582\" fill=\"none\" stroke=\"#000000\"/>\n<polygon fill=\"#000000\" points=\"782.1696,-652.8287 771.5791,-652.5238 779.6679,-659.3665 782.1696,-652.8287\" stroke=\"#000000\"/>\n<text fill=\"#000000\" font-family=\"Times,serif\" font-size=\"14.00\" text-anchor=\"middle\" x=\"781.772\" y=\"-671.6516\">True</text>\n</g>\n<!-- 2 -->\n<g class=\"node\" id=\"node23\">\n<title>2</title>\n<polygon fill=\"#f9dffb\" points=\"1517.5,-663 1355.5,-663 1355.5,-580 1517.5,-580 1517.5,-663\" stroke=\"#000000\"/>\n<text fill=\"#000000\" font-family=\"Times,serif\" font-size=\"14.00\" text-anchor=\"middle\" x=\"1436.5\" y=\"-647.8\">ram &lt;= 3140.0</text>\n<text fill=\"#000000\" font-family=\"Times,serif\" font-size=\"14.00\" text-anchor=\"middle\" x=\"1436.5\" y=\"-632.8\">gini = 0.554</text>\n<text fill=\"#000000\" font-family=\"Times,serif\" font-size=\"14.00\" text-anchor=\"middle\" x=\"1436.5\" y=\"-617.8\">samples = 655</text>\n<text fill=\"#000000\" font-family=\"Times,serif\" font-size=\"14.00\" text-anchor=\"middle\" x=\"1436.5\" y=\"-602.8\">value = [0, 42, 276, 337]</text>\n<text fill=\"#000000\" font-family=\"Times,serif\" font-size=\"14.00\" text-anchor=\"middle\" x=\"1436.5\" y=\"-587.8\">class = 3</text>\n</g>\n<!-- 0&#45;&gt;2 -->\n<g class=\"edge\" id=\"edge22\">\n<title>0-&gt;2</title>\n<path d=\"M1094.0185,-715.1904C1168.2665,-694.8788 1271.927,-666.5211 1345.7128,-646.336\" fill=\"none\" stroke=\"#000000\"/>\n<polygon fill=\"#000000\" points=\"1346.7432,-649.6828 1355.4652,-643.6681 1344.8961,-642.9309 1346.7432,-649.6828\" stroke=\"#000000\"/>\n<text fill=\"#000000\" font-family=\"Times,serif\" font-size=\"14.00\" text-anchor=\"middle\" x=\"1343.0786\" y=\"-661.6839\">False</text>\n</g>\n<!-- 3 -->\n<g class=\"node\" id=\"node3\">\n<title>3</title>\n<polygon fill=\"#e99559\" points=\"519,-544 372,-544 372,-461 519,-461 519,-544\" stroke=\"#000000\"/>\n<text fill=\"#000000\" font-family=\"Times,serif\" font-size=\"14.00\" text-anchor=\"middle\" x=\"445.5\" y=\"-528.8\">px_height &lt;= 1449.0</text>\n<text fill=\"#000000\" font-family=\"Times,serif\" font-size=\"14.00\" text-anchor=\"middle\" x=\"445.5\" y=\"-513.8\">gini = 0.239</text>\n<text fill=\"#000000\" font-family=\"Times,serif\" font-size=\"14.00\" text-anchor=\"middle\" x=\"445.5\" y=\"-498.8\">samples = 339</text>\n<text fill=\"#000000\" font-family=\"Times,serif\" font-size=\"14.00\" text-anchor=\"middle\" x=\"445.5\" y=\"-483.8\">value = [292, 47, 0, 0]</text>\n<text fill=\"#000000\" font-family=\"Times,serif\" font-size=\"14.00\" text-anchor=\"middle\" x=\"445.5\" y=\"-468.8\">class = 0</text>\n</g>\n<!-- 1&#45;&gt;3 -->\n<g class=\"edge\" id=\"edge2\">\n<title>1-&gt;3</title>\n<path d=\"M609.2589,-582.04C583.2173,-569.3913 554.3592,-555.3745 528.2137,-542.6752\" fill=\"none\" stroke=\"#000000\"/>\n<polygon fill=\"#000000\" points=\"529.6121,-539.4635 519.0879,-538.2427 526.5538,-545.7601 529.6121,-539.4635\" stroke=\"#000000\"/>\n</g>\n<!-- 4 -->\n<g class=\"node\" id=\"node10\">\n<title>4</title>\n<polygon fill=\"#8fef86\" points=\"772.5,-544 608.5,-544 608.5,-461 772.5,-461 772.5,-544\" stroke=\"#000000\"/>\n<text fill=\"#000000\" font-family=\"Times,serif\" font-size=\"14.00\" text-anchor=\"middle\" x=\"690.5\" y=\"-528.8\">battery_power &lt;= 1071.0</text>\n<text fill=\"#000000\" font-family=\"Times,serif\" font-size=\"14.00\" text-anchor=\"middle\" x=\"690.5\" y=\"-513.8\">gini = 0.486</text>\n<text fill=\"#000000\" font-family=\"Times,serif\" font-size=\"14.00\" text-anchor=\"middle\" x=\"690.5\" y=\"-498.8\">samples = 406</text>\n<text fill=\"#000000\" font-family=\"Times,serif\" font-size=\"14.00\" text-anchor=\"middle\" x=\"690.5\" y=\"-483.8\">value = [57, 276, 73, 0]</text>\n<text fill=\"#000000\" font-family=\"Times,serif\" font-size=\"14.00\" text-anchor=\"middle\" x=\"690.5\" y=\"-468.8\">class = 1</text>\n</g>\n<!-- 1&#45;&gt;4 -->\n<g class=\"edge\" id=\"edge9\">\n<title>1-&gt;4</title>\n<path d=\"M690.5,-579.8796C690.5,-571.6838 690.5,-562.9891 690.5,-554.5013\" fill=\"none\" stroke=\"#000000\"/>\n<polygon fill=\"#000000\" points=\"694.0001,-554.298 690.5,-544.2981 687.0001,-554.2981 694.0001,-554.298\" stroke=\"#000000\"/>\n</g>\n<!-- 13 -->\n<g class=\"node\" id=\"node4\">\n<title>13</title>\n<polygon fill=\"#e88f4f\" points=\"317.5,-425 153.5,-425 153.5,-342 317.5,-342 317.5,-425\" stroke=\"#000000\"/>\n<text fill=\"#000000\" font-family=\"Times,serif\" font-size=\"14.00\" text-anchor=\"middle\" x=\"235.5\" y=\"-409.8\">battery_power &lt;= 1816.5</text>\n<text fill=\"#000000\" font-family=\"Times,serif\" font-size=\"14.00\" text-anchor=\"middle\" x=\"235.5\" y=\"-394.8\">gini = 0.181</text>\n<text fill=\"#000000\" font-family=\"Times,serif\" font-size=\"14.00\" text-anchor=\"middle\" x=\"235.5\" y=\"-379.8\">samples = 319</text>\n<text fill=\"#000000\" font-family=\"Times,serif\" font-size=\"14.00\" text-anchor=\"middle\" x=\"235.5\" y=\"-364.8\">value = [287, 32, 0, 0]</text>\n<text fill=\"#000000\" font-family=\"Times,serif\" font-size=\"14.00\" text-anchor=\"middle\" x=\"235.5\" y=\"-349.8\">class = 0</text>\n</g>\n<!-- 3&#45;&gt;13 -->\n<g class=\"edge\" id=\"edge3\">\n<title>3-&gt;13</title>\n<path d=\"M372.0522,-460.8796C354.4677,-450.915 335.5817,-440.2129 317.6326,-430.0418\" fill=\"none\" stroke=\"#000000\"/>\n<polygon fill=\"#000000\" points=\"319.3321,-426.982 308.9063,-425.0969 315.881,-433.0722 319.3321,-426.982\" stroke=\"#000000\"/>\n</g>\n<!-- 14 -->\n<g class=\"node\" id=\"node9\">\n<title>14</title>\n<polygon fill=\"#84ee7b\" points=\"511.5,-417.5 379.5,-417.5 379.5,-349.5 511.5,-349.5 511.5,-417.5\" stroke=\"#000000\"/>\n<text fill=\"#000000\" font-family=\"Times,serif\" font-size=\"14.00\" text-anchor=\"middle\" x=\"445.5\" y=\"-402.3\">gini = 0.375</text>\n<text fill=\"#000000\" font-family=\"Times,serif\" font-size=\"14.00\" text-anchor=\"middle\" x=\"445.5\" y=\"-387.3\">samples = 20</text>\n<text fill=\"#000000\" font-family=\"Times,serif\" font-size=\"14.00\" text-anchor=\"middle\" x=\"445.5\" y=\"-372.3\">value = [5, 15, 0, 0]</text>\n<text fill=\"#000000\" font-family=\"Times,serif\" font-size=\"14.00\" text-anchor=\"middle\" x=\"445.5\" y=\"-357.3\">class = 1</text>\n</g>\n<!-- 3&#45;&gt;14 -->\n<g class=\"edge\" id=\"edge8\">\n<title>3-&gt;14</title>\n<path d=\"M445.5,-460.8796C445.5,-450.2134 445.5,-438.7021 445.5,-427.9015\" fill=\"none\" stroke=\"#000000\"/>\n<polygon fill=\"#000000\" points=\"449.0001,-427.8149 445.5,-417.8149 442.0001,-427.815 449.0001,-427.8149\" stroke=\"#000000\"/>\n</g>\n<!-- 37 -->\n<g class=\"node\" id=\"node5\">\n<title>37</title>\n<polygon fill=\"#e78946\" points=\"147,-298.5 0,-298.5 0,-230.5 147,-230.5 147,-298.5\" stroke=\"#000000\"/>\n<text fill=\"#000000\" font-family=\"Times,serif\" font-size=\"14.00\" text-anchor=\"middle\" x=\"73.5\" y=\"-283.3\">gini = 0.112</text>\n<text fill=\"#000000\" font-family=\"Times,serif\" font-size=\"14.00\" text-anchor=\"middle\" x=\"73.5\" y=\"-268.3\">samples = 285</text>\n<text fill=\"#000000\" font-family=\"Times,serif\" font-size=\"14.00\" text-anchor=\"middle\" x=\"73.5\" y=\"-253.3\">value = [268, 17, 0, 0]</text>\n<text fill=\"#000000\" font-family=\"Times,serif\" font-size=\"14.00\" text-anchor=\"middle\" x=\"73.5\" y=\"-238.3\">class = 0</text>\n</g>\n<!-- 13&#45;&gt;37 -->\n<g class=\"edge\" id=\"edge4\">\n<title>13-&gt;37</title>\n<path d=\"M178.8403,-341.8796C162.4459,-329.8368 144.5849,-316.7167 128.3058,-304.7586\" fill=\"none\" stroke=\"#000000\"/>\n<polygon fill=\"#000000\" points=\"130.0846,-301.7224 119.9532,-298.623 125.9405,-307.3639 130.0846,-301.7224\" stroke=\"#000000\"/>\n</g>\n<!-- 38 -->\n<g class=\"node\" id=\"node6\">\n<title>38</title>\n<polygon fill=\"#fae4d5\" points=\"305.5,-306 165.5,-306 165.5,-223 305.5,-223 305.5,-306\" stroke=\"#000000\"/>\n<text fill=\"#000000\" font-family=\"Times,serif\" font-size=\"14.00\" text-anchor=\"middle\" x=\"235.5\" y=\"-290.8\">ram &lt;= 818.0</text>\n<text fill=\"#000000\" font-family=\"Times,serif\" font-size=\"14.00\" text-anchor=\"middle\" x=\"235.5\" y=\"-275.8\">gini = 0.493</text>\n<text fill=\"#000000\" font-family=\"Times,serif\" font-size=\"14.00\" text-anchor=\"middle\" x=\"235.5\" y=\"-260.8\">samples = 34</text>\n<text fill=\"#000000\" font-family=\"Times,serif\" font-size=\"14.00\" text-anchor=\"middle\" x=\"235.5\" y=\"-245.8\">value = [19, 15, 0, 0]</text>\n<text fill=\"#000000\" font-family=\"Times,serif\" font-size=\"14.00\" text-anchor=\"middle\" x=\"235.5\" y=\"-230.8\">class = 0</text>\n</g>\n<!-- 13&#45;&gt;38 -->\n<g class=\"edge\" id=\"edge5\">\n<title>13-&gt;38</title>\n<path d=\"M235.5,-341.8796C235.5,-333.6838 235.5,-324.9891 235.5,-316.5013\" fill=\"none\" stroke=\"#000000\"/>\n<polygon fill=\"#000000\" points=\"239.0001,-316.298 235.5,-306.2981 232.0001,-316.2981 239.0001,-316.298\" stroke=\"#000000\"/>\n</g>\n<!-- 43 -->\n<g class=\"node\" id=\"node7\">\n<title>43</title>\n<polygon fill=\"#eca470\" points=\"151.5,-179.5 19.5,-179.5 19.5,-111.5 151.5,-111.5 151.5,-179.5\" stroke=\"#000000\"/>\n<text fill=\"#000000\" font-family=\"Times,serif\" font-size=\"14.00\" text-anchor=\"middle\" x=\"85.5\" y=\"-164.3\">gini = 0.34</text>\n<text fill=\"#000000\" font-family=\"Times,serif\" font-size=\"14.00\" text-anchor=\"middle\" x=\"85.5\" y=\"-149.3\">samples = 23</text>\n<text fill=\"#000000\" font-family=\"Times,serif\" font-size=\"14.00\" text-anchor=\"middle\" x=\"85.5\" y=\"-134.3\">value = [18, 5, 0, 0]</text>\n<text fill=\"#000000\" font-family=\"Times,serif\" font-size=\"14.00\" text-anchor=\"middle\" x=\"85.5\" y=\"-119.3\">class = 0</text>\n</g>\n<!-- 38&#45;&gt;43 -->\n<g class=\"edge\" id=\"edge6\">\n<title>38-&gt;43</title>\n<path d=\"M183.0373,-222.8796C168.0678,-211.0038 151.7778,-198.0804 136.8741,-186.2568\" fill=\"none\" stroke=\"#000000\"/>\n<polygon fill=\"#000000\" points=\"138.7635,-183.2881 128.7541,-179.8149 134.413,-188.772 138.7635,-183.2881\" stroke=\"#000000\"/>\n</g>\n<!-- 44 -->\n<g class=\"node\" id=\"node8\">\n<title>44</title>\n<polygon fill=\"#59e84d\" points=\"301.5,-179.5 169.5,-179.5 169.5,-111.5 301.5,-111.5 301.5,-179.5\" stroke=\"#000000\"/>\n<text fill=\"#000000\" font-family=\"Times,serif\" font-size=\"14.00\" text-anchor=\"middle\" x=\"235.5\" y=\"-164.3\">gini = 0.165</text>\n<text fill=\"#000000\" font-family=\"Times,serif\" font-size=\"14.00\" text-anchor=\"middle\" x=\"235.5\" y=\"-149.3\">samples = 11</text>\n<text fill=\"#000000\" font-family=\"Times,serif\" font-size=\"14.00\" text-anchor=\"middle\" x=\"235.5\" y=\"-134.3\">value = [1, 10, 0, 0]</text>\n<text fill=\"#000000\" font-family=\"Times,serif\" font-size=\"14.00\" text-anchor=\"middle\" x=\"235.5\" y=\"-119.3\">class = 1</text>\n</g>\n<!-- 38&#45;&gt;44 -->\n<g class=\"edge\" id=\"edge7\">\n<title>38-&gt;44</title>\n<path d=\"M235.5,-222.8796C235.5,-212.2134 235.5,-200.7021 235.5,-189.9015\" fill=\"none\" stroke=\"#000000\"/>\n<polygon fill=\"#000000\" points=\"239.0001,-189.8149 235.5,-179.8149 232.0001,-189.815 239.0001,-189.8149\" stroke=\"#000000\"/>\n</g>\n<!-- 7 -->\n<g class=\"node\" id=\"node11\">\n<title>7</title>\n<polygon fill=\"#b0f4aa\" points=\"714.5,-425 574.5,-425 574.5,-342 714.5,-342 714.5,-425\" stroke=\"#000000\"/>\n<text fill=\"#000000\" font-family=\"Times,serif\" font-size=\"14.00\" text-anchor=\"middle\" x=\"644.5\" y=\"-409.8\">ram &lt;= 1544.5</text>\n<text fill=\"#000000\" font-family=\"Times,serif\" font-size=\"14.00\" text-anchor=\"middle\" x=\"644.5\" y=\"-394.8\">gini = 0.491</text>\n<text fill=\"#000000\" font-family=\"Times,serif\" font-size=\"14.00\" text-anchor=\"middle\" x=\"644.5\" y=\"-379.8\">samples = 157</text>\n<text fill=\"#000000\" font-family=\"Times,serif\" font-size=\"14.00\" text-anchor=\"middle\" x=\"644.5\" y=\"-364.8\">value = [54, 98, 5, 0]</text>\n<text fill=\"#000000\" font-family=\"Times,serif\" font-size=\"14.00\" text-anchor=\"middle\" x=\"644.5\" y=\"-349.8\">class = 1</text>\n</g>\n<!-- 4&#45;&gt;7 -->\n<g class=\"edge\" id=\"edge10\">\n<title>4-&gt;7</title>\n<path d=\"M674.4114,-460.8796C671.1389,-452.4136 667.6605,-443.4153 664.2771,-434.6626\" fill=\"none\" stroke=\"#000000\"/>\n<polygon fill=\"#000000\" points=\"667.5274,-433.3635 660.6572,-425.2981 660.9983,-435.8874 667.5274,-433.3635\" stroke=\"#000000\"/>\n</g>\n<!-- 8 -->\n<g class=\"node\" id=\"node16\">\n<title>8</title>\n<polygon fill=\"#8fef87\" points=\"880,-425 733,-425 733,-342 880,-342 880,-425\" stroke=\"#000000\"/>\n<text fill=\"#000000\" font-family=\"Times,serif\" font-size=\"14.00\" text-anchor=\"middle\" x=\"806.5\" y=\"-409.8\">px_height &lt;= 1169.0</text>\n<text fill=\"#000000\" font-family=\"Times,serif\" font-size=\"14.00\" text-anchor=\"middle\" x=\"806.5\" y=\"-394.8\">gini = 0.414</text>\n<text fill=\"#000000\" font-family=\"Times,serif\" font-size=\"14.00\" text-anchor=\"middle\" x=\"806.5\" y=\"-379.8\">samples = 249</text>\n<text fill=\"#000000\" font-family=\"Times,serif\" font-size=\"14.00\" text-anchor=\"middle\" x=\"806.5\" y=\"-364.8\">value = [3, 178, 68, 0]</text>\n<text fill=\"#000000\" font-family=\"Times,serif\" font-size=\"14.00\" text-anchor=\"middle\" x=\"806.5\" y=\"-349.8\">class = 1</text>\n</g>\n<!-- 4&#45;&gt;8 -->\n<g class=\"edge\" id=\"edge15\">\n<title>4-&gt;8</title>\n<path d=\"M731.0712,-460.8796C739.9382,-451.7832 749.4044,-442.0722 758.5291,-432.7116\" fill=\"none\" stroke=\"#000000\"/>\n<polygon fill=\"#000000\" points=\"761.2817,-434.9019 765.7557,-425.2981 756.2691,-430.0158 761.2817,-434.9019\" stroke=\"#000000\"/>\n</g>\n<!-- 9 -->\n<g class=\"node\" id=\"node12\">\n<title>9</title>\n<polygon fill=\"#eca36e\" points=\"561.5,-306 421.5,-306 421.5,-223 561.5,-223 561.5,-306\" stroke=\"#000000\"/>\n<text fill=\"#000000\" font-family=\"Times,serif\" font-size=\"14.00\" text-anchor=\"middle\" x=\"491.5\" y=\"-290.8\">px_width &lt;= 1488.5</text>\n<text fill=\"#000000\" font-family=\"Times,serif\" font-size=\"14.00\" text-anchor=\"middle\" x=\"491.5\" y=\"-275.8\">gini = 0.332</text>\n<text fill=\"#000000\" font-family=\"Times,serif\" font-size=\"14.00\" text-anchor=\"middle\" x=\"491.5\" y=\"-260.8\">samples = 57</text>\n<text fill=\"#000000\" font-family=\"Times,serif\" font-size=\"14.00\" text-anchor=\"middle\" x=\"491.5\" y=\"-245.8\">value = [45, 12, 0, 0]</text>\n<text fill=\"#000000\" font-family=\"Times,serif\" font-size=\"14.00\" text-anchor=\"middle\" x=\"491.5\" y=\"-230.8\">class = 0</text>\n</g>\n<!-- 7&#45;&gt;9 -->\n<g class=\"edge\" id=\"edge11\">\n<title>7-&gt;9</title>\n<path d=\"M590.988,-341.8796C578.7588,-332.368 565.6656,-322.1843 553.1268,-312.432\" fill=\"none\" stroke=\"#000000\"/>\n<polygon fill=\"#000000\" points=\"555.0241,-309.4736 544.9818,-306.0969 550.7265,-314.9991 555.0241,-309.4736\" stroke=\"#000000\"/>\n</g>\n<!-- 10 -->\n<g class=\"node\" id=\"node15\">\n<title>10</title>\n<polygon fill=\"#63e957\" points=\"711.5,-298.5 579.5,-298.5 579.5,-230.5 711.5,-230.5 711.5,-298.5\" stroke=\"#000000\"/>\n<text fill=\"#000000\" font-family=\"Times,serif\" font-size=\"14.00\" text-anchor=\"middle\" x=\"645.5\" y=\"-283.3\">gini = 0.25</text>\n<text fill=\"#000000\" font-family=\"Times,serif\" font-size=\"14.00\" text-anchor=\"middle\" x=\"645.5\" y=\"-268.3\">samples = 100</text>\n<text fill=\"#000000\" font-family=\"Times,serif\" font-size=\"14.00\" text-anchor=\"middle\" x=\"645.5\" y=\"-253.3\">value = [9, 86, 5, 0]</text>\n<text fill=\"#000000\" font-family=\"Times,serif\" font-size=\"14.00\" text-anchor=\"middle\" x=\"645.5\" y=\"-238.3\">class = 1</text>\n</g>\n<!-- 7&#45;&gt;10 -->\n<g class=\"edge\" id=\"edge14\">\n<title>7-&gt;10</title>\n<path d=\"M644.8498,-341.8796C644.9394,-331.2134 645.0361,-319.7021 645.1269,-308.9015\" fill=\"none\" stroke=\"#000000\"/>\n<polygon fill=\"#000000\" points=\"648.6274,-308.844 645.2116,-298.8149 641.6276,-308.7851 648.6274,-308.844\" stroke=\"#000000\"/>\n</g>\n<!-- 33 -->\n<g class=\"node\" id=\"node13\">\n<title>33</title>\n<polygon fill=\"#e68743\" points=\"451.5,-179.5 319.5,-179.5 319.5,-111.5 451.5,-111.5 451.5,-179.5\" stroke=\"#000000\"/>\n<text fill=\"#000000\" font-family=\"Times,serif\" font-size=\"14.00\" text-anchor=\"middle\" x=\"385.5\" y=\"-164.3\">gini = 0.089</text>\n<text fill=\"#000000\" font-family=\"Times,serif\" font-size=\"14.00\" text-anchor=\"middle\" x=\"385.5\" y=\"-149.3\">samples = 43</text>\n<text fill=\"#000000\" font-family=\"Times,serif\" font-size=\"14.00\" text-anchor=\"middle\" x=\"385.5\" y=\"-134.3\">value = [41, 2, 0, 0]</text>\n<text fill=\"#000000\" font-family=\"Times,serif\" font-size=\"14.00\" text-anchor=\"middle\" x=\"385.5\" y=\"-119.3\">class = 0</text>\n</g>\n<!-- 9&#45;&gt;33 -->\n<g class=\"edge\" id=\"edge12\">\n<title>9-&gt;33</title>\n<path d=\"M454.4263,-222.8796C444.2397,-211.4436 433.1878,-199.0363 422.9785,-187.575\" fill=\"none\" stroke=\"#000000\"/>\n<polygon fill=\"#000000\" points=\"425.3312,-184.9541 416.0662,-179.8149 420.1042,-189.6101 425.3312,-184.9541\" stroke=\"#000000\"/>\n</g>\n<!-- 34 -->\n<g class=\"node\" id=\"node14\">\n<title>34</title>\n<polygon fill=\"#91ef88\" points=\"601.5,-179.5 469.5,-179.5 469.5,-111.5 601.5,-111.5 601.5,-179.5\" stroke=\"#000000\"/>\n<text fill=\"#000000\" font-family=\"Times,serif\" font-size=\"14.00\" text-anchor=\"middle\" x=\"535.5\" y=\"-164.3\">gini = 0.408</text>\n<text fill=\"#000000\" font-family=\"Times,serif\" font-size=\"14.00\" text-anchor=\"middle\" x=\"535.5\" y=\"-149.3\">samples = 14</text>\n<text fill=\"#000000\" font-family=\"Times,serif\" font-size=\"14.00\" text-anchor=\"middle\" x=\"535.5\" y=\"-134.3\">value = [4, 10, 0, 0]</text>\n<text fill=\"#000000\" font-family=\"Times,serif\" font-size=\"14.00\" text-anchor=\"middle\" x=\"535.5\" y=\"-119.3\">class = 1</text>\n</g>\n<!-- 9&#45;&gt;34 -->\n<g class=\"edge\" id=\"edge13\">\n<title>9-&gt;34</title>\n<path d=\"M506.8891,-222.8796C510.9142,-211.9935 515.2648,-200.227 519.3293,-189.2344\" fill=\"none\" stroke=\"#000000\"/>\n<polygon fill=\"#000000\" points=\"522.6268,-190.4082 522.8121,-179.8149 516.0613,-187.9805 522.6268,-190.4082\" stroke=\"#000000\"/>\n</g>\n<!-- 11 -->\n<g class=\"node\" id=\"node17\">\n<title>11</title>\n<polygon fill=\"#74eb6a\" points=\"878,-306 731,-306 731,-223 878,-223 878,-306\" stroke=\"#000000\"/>\n<text fill=\"#000000\" font-family=\"Times,serif\" font-size=\"14.00\" text-anchor=\"middle\" x=\"804.5\" y=\"-290.8\">ram &lt;= 1896.5</text>\n<text fill=\"#000000\" font-family=\"Times,serif\" font-size=\"14.00\" text-anchor=\"middle\" x=\"804.5\" y=\"-275.8\">gini = 0.325</text>\n<text fill=\"#000000\" font-family=\"Times,serif\" font-size=\"14.00\" text-anchor=\"middle\" x=\"804.5\" y=\"-260.8\">samples = 205</text>\n<text fill=\"#000000\" font-family=\"Times,serif\" font-size=\"14.00\" text-anchor=\"middle\" x=\"804.5\" y=\"-245.8\">value = [3, 164, 38, 0]</text>\n<text fill=\"#000000\" font-family=\"Times,serif\" font-size=\"14.00\" text-anchor=\"middle\" x=\"804.5\" y=\"-230.8\">class = 1</text>\n</g>\n<!-- 8&#45;&gt;11 -->\n<g class=\"edge\" id=\"edge16\">\n<title>8-&gt;11</title>\n<path d=\"M805.8005,-341.8796C805.6628,-333.6838 805.5166,-324.9891 805.374,-316.5013\" fill=\"none\" stroke=\"#000000\"/>\n<polygon fill=\"#000000\" points=\"808.8701,-316.2378 805.2025,-306.2981 801.8711,-316.3555 808.8701,-316.2378\" stroke=\"#000000\"/>\n</g>\n<!-- 12 -->\n<g class=\"node\" id=\"node22\">\n<title>12</title>\n<polygon fill=\"#95cbf1\" points=\"1036.5,-298.5 896.5,-298.5 896.5,-230.5 1036.5,-230.5 1036.5,-298.5\" stroke=\"#000000\"/>\n<text fill=\"#000000\" font-family=\"Times,serif\" font-size=\"14.00\" text-anchor=\"middle\" x=\"966.5\" y=\"-283.3\">gini = 0.434</text>\n<text fill=\"#000000\" font-family=\"Times,serif\" font-size=\"14.00\" text-anchor=\"middle\" x=\"966.5\" y=\"-268.3\">samples = 44</text>\n<text fill=\"#000000\" font-family=\"Times,serif\" font-size=\"14.00\" text-anchor=\"middle\" x=\"966.5\" y=\"-253.3\">value = [0, 14, 30, 0]</text>\n<text fill=\"#000000\" font-family=\"Times,serif\" font-size=\"14.00\" text-anchor=\"middle\" x=\"966.5\" y=\"-238.3\">class = 2</text>\n</g>\n<!-- 8&#45;&gt;12 -->\n<g class=\"edge\" id=\"edge21\">\n<title>8-&gt;12</title>\n<path d=\"M862.4602,-341.8796C878.6522,-329.8368 896.2927,-316.7167 912.3708,-304.7586\" fill=\"none\" stroke=\"#000000\"/>\n<polygon fill=\"#000000\" points=\"914.685,-307.3993 920.6203,-298.623 910.5075,-301.7825 914.685,-307.3993\" stroke=\"#000000\"/>\n</g>\n<!-- 21 -->\n<g class=\"node\" id=\"node18\">\n<title>21</title>\n<polygon fill=\"#5ae84d\" points=\"765.5,-179.5 619.5,-179.5 619.5,-111.5 765.5,-111.5 765.5,-179.5\" stroke=\"#000000\"/>\n<text fill=\"#000000\" font-family=\"Times,serif\" font-size=\"14.00\" text-anchor=\"middle\" x=\"692.5\" y=\"-164.3\">gini = 0.174</text>\n<text fill=\"#000000\" font-family=\"Times,serif\" font-size=\"14.00\" text-anchor=\"middle\" x=\"692.5\" y=\"-149.3\">samples = 148</text>\n<text fill=\"#000000\" font-family=\"Times,serif\" font-size=\"14.00\" text-anchor=\"middle\" x=\"692.5\" y=\"-134.3\">value = [3, 134, 11, 0]</text>\n<text fill=\"#000000\" font-family=\"Times,serif\" font-size=\"14.00\" text-anchor=\"middle\" x=\"692.5\" y=\"-119.3\">class = 1</text>\n</g>\n<!-- 11&#45;&gt;21 -->\n<g class=\"edge\" id=\"edge17\">\n<title>11-&gt;21</title>\n<path d=\"M765.3278,-222.8796C754.4611,-211.3337 742.6624,-198.7976 731.7891,-187.2446\" fill=\"none\" stroke=\"#000000\"/>\n<polygon fill=\"#000000\" points=\"734.1988,-184.6982 724.7964,-179.8149 729.1014,-189.4958 734.1988,-184.6982\" stroke=\"#000000\"/>\n</g>\n<!-- 22 -->\n<g class=\"node\" id=\"node19\">\n<title>22</title>\n<polygon fill=\"#edfceb\" points=\"947.5,-187 783.5,-187 783.5,-104 947.5,-104 947.5,-187\" stroke=\"#000000\"/>\n<text fill=\"#000000\" font-family=\"Times,serif\" font-size=\"14.00\" text-anchor=\"middle\" x=\"865.5\" y=\"-171.8\">battery_power &lt;= 1459.0</text>\n<text fill=\"#000000\" font-family=\"Times,serif\" font-size=\"14.00\" text-anchor=\"middle\" x=\"865.5\" y=\"-156.8\">gini = 0.499</text>\n<text fill=\"#000000\" font-family=\"Times,serif\" font-size=\"14.00\" text-anchor=\"middle\" x=\"865.5\" y=\"-141.8\">samples = 57</text>\n<text fill=\"#000000\" font-family=\"Times,serif\" font-size=\"14.00\" text-anchor=\"middle\" x=\"865.5\" y=\"-126.8\">value = [0, 30, 27, 0]</text>\n<text fill=\"#000000\" font-family=\"Times,serif\" font-size=\"14.00\" text-anchor=\"middle\" x=\"865.5\" y=\"-111.8\">class = 1</text>\n</g>\n<!-- 11&#45;&gt;22 -->\n<g class=\"edge\" id=\"edge18\">\n<title>11-&gt;22</title>\n<path d=\"M825.8348,-222.8796C830.2207,-214.3236 834.8853,-205.2238 839.417,-196.3833\" fill=\"none\" stroke=\"#000000\"/>\n<polygon fill=\"#000000\" points=\"842.627,-197.7936 844.0741,-187.2981 836.3978,-194.6004 842.627,-197.7936\" stroke=\"#000000\"/>\n</g>\n<!-- 23 -->\n<g class=\"node\" id=\"node20\">\n<title>23</title>\n<polygon fill=\"#4fe641\" points=\"786.5,-68 654.5,-68 654.5,0 786.5,0 786.5,-68\" stroke=\"#000000\"/>\n<text fill=\"#000000\" font-family=\"Times,serif\" font-size=\"14.00\" text-anchor=\"middle\" x=\"720.5\" y=\"-52.8\">gini = 0.077</text>\n<text fill=\"#000000\" font-family=\"Times,serif\" font-size=\"14.00\" text-anchor=\"middle\" x=\"720.5\" y=\"-37.8\">samples = 25</text>\n<text fill=\"#000000\" font-family=\"Times,serif\" font-size=\"14.00\" text-anchor=\"middle\" x=\"720.5\" y=\"-22.8\">value = [0, 24, 1, 0]</text>\n<text fill=\"#000000\" font-family=\"Times,serif\" font-size=\"14.00\" text-anchor=\"middle\" x=\"720.5\" y=\"-7.8\">class = 1</text>\n</g>\n<!-- 22&#45;&gt;23 -->\n<g class=\"edge\" id=\"edge19\">\n<title>22-&gt;23</title>\n<path d=\"M811.5074,-103.9815C798.9578,-94.3313 785.6153,-84.0714 773.1256,-74.4673\" fill=\"none\" stroke=\"#000000\"/>\n<polygon fill=\"#000000\" points=\"775.119,-71.585 765.0581,-68.2637 770.8519,-77.134 775.119,-71.585\" stroke=\"#000000\"/>\n</g>\n<!-- 24 -->\n<g class=\"node\" id=\"node21\">\n<title>24</title>\n<polygon fill=\"#67b4eb\" points=\"936.5,-68 804.5,-68 804.5,0 936.5,0 936.5,-68\" stroke=\"#000000\"/>\n<text fill=\"#000000\" font-family=\"Times,serif\" font-size=\"14.00\" text-anchor=\"middle\" x=\"870.5\" y=\"-52.8\">gini = 0.305</text>\n<text fill=\"#000000\" font-family=\"Times,serif\" font-size=\"14.00\" text-anchor=\"middle\" x=\"870.5\" y=\"-37.8\">samples = 32</text>\n<text fill=\"#000000\" font-family=\"Times,serif\" font-size=\"14.00\" text-anchor=\"middle\" x=\"870.5\" y=\"-22.8\">value = [0, 6, 26, 0]</text>\n<text fill=\"#000000\" font-family=\"Times,serif\" font-size=\"14.00\" text-anchor=\"middle\" x=\"870.5\" y=\"-7.8\">class = 2</text>\n</g>\n<!-- 22&#45;&gt;24 -->\n<g class=\"edge\" id=\"edge20\">\n<title>22-&gt;24</title>\n<path d=\"M867.3618,-103.9815C867.7369,-95.618 868.1324,-86.7965 868.5116,-78.3409\" fill=\"none\" stroke=\"#000000\"/>\n<polygon fill=\"#000000\" points=\"872.0119,-78.4105 868.9635,-68.2637 865.019,-78.0968 872.0119,-78.4105\" stroke=\"#000000\"/>\n</g>\n<!-- 5 -->\n<g class=\"node\" id=\"node24\">\n<title>5</title>\n<polygon fill=\"#87c4ef\" points=\"1514,-544 1359,-544 1359,-461 1514,-461 1514,-544\" stroke=\"#000000\"/>\n<text fill=\"#000000\" font-family=\"Times,serif\" font-size=\"14.00\" text-anchor=\"middle\" x=\"1436.5\" y=\"-528.8\">px_height &lt;= 1295.0</text>\n<text fill=\"#000000\" font-family=\"Times,serif\" font-size=\"14.00\" text-anchor=\"middle\" x=\"1436.5\" y=\"-513.8\">gini = 0.48</text>\n<text fill=\"#000000\" font-family=\"Times,serif\" font-size=\"14.00\" text-anchor=\"middle\" x=\"1436.5\" y=\"-498.8\">samples = 347</text>\n<text fill=\"#000000\" font-family=\"Times,serif\" font-size=\"14.00\" text-anchor=\"middle\" x=\"1436.5\" y=\"-483.8\">value = [0, 42, 237, 68]</text>\n<text fill=\"#000000\" font-family=\"Times,serif\" font-size=\"14.00\" text-anchor=\"middle\" x=\"1436.5\" y=\"-468.8\">class = 2</text>\n</g>\n<!-- 2&#45;&gt;5 -->\n<g class=\"edge\" id=\"edge23\">\n<title>2-&gt;5</title>\n<path d=\"M1436.5,-579.8796C1436.5,-571.6838 1436.5,-562.9891 1436.5,-554.5013\" fill=\"none\" stroke=\"#000000\"/>\n<polygon fill=\"#000000\" points=\"1440.0001,-554.298 1436.5,-544.2981 1433.0001,-554.2981 1440.0001,-554.298\" stroke=\"#000000\"/>\n</g>\n<!-- 6 -->\n<g class=\"node\" id=\"node39\">\n<title>6</title>\n<polygon fill=\"#dd56e9\" points=\"1896,-544 1739,-544 1739,-461 1896,-461 1896,-544\" stroke=\"#000000\"/>\n<text fill=\"#000000\" font-family=\"Times,serif\" font-size=\"14.00\" text-anchor=\"middle\" x=\"1817.5\" y=\"-528.8\">battery_power &lt;= 821.5</text>\n<text fill=\"#000000\" font-family=\"Times,serif\" font-size=\"14.00\" text-anchor=\"middle\" x=\"1817.5\" y=\"-513.8\">gini = 0.221</text>\n<text fill=\"#000000\" font-family=\"Times,serif\" font-size=\"14.00\" text-anchor=\"middle\" x=\"1817.5\" y=\"-498.8\">samples = 308</text>\n<text fill=\"#000000\" font-family=\"Times,serif\" font-size=\"14.00\" text-anchor=\"middle\" x=\"1817.5\" y=\"-483.8\">value = [0, 0, 39, 269]</text>\n<text fill=\"#000000\" font-family=\"Times,serif\" font-size=\"14.00\" text-anchor=\"middle\" x=\"1817.5\" y=\"-468.8\">class = 3</text>\n</g>\n<!-- 2&#45;&gt;6 -->\n<g class=\"edge\" id=\"edge38\">\n<title>2-&gt;6</title>\n<path d=\"M1517.7667,-596.1175C1579.9213,-576.7044 1665.5075,-549.9727 1729.3167,-530.0428\" fill=\"none\" stroke=\"#000000\"/>\n<polygon fill=\"#000000\" points=\"1730.4636,-533.3514 1738.9653,-527.0292 1728.3766,-526.6698 1730.4636,-533.3514\" stroke=\"#000000\"/>\n</g>\n<!-- 15 -->\n<g class=\"node\" id=\"node25\">\n<title>15</title>\n<polygon fill=\"#79bded\" points=\"1427.5,-425 1263.5,-425 1263.5,-342 1427.5,-342 1427.5,-425\" stroke=\"#000000\"/>\n<text fill=\"#000000\" font-family=\"Times,serif\" font-size=\"14.00\" text-anchor=\"middle\" x=\"1345.5\" y=\"-409.8\">battery_power &lt;= 1312.0</text>\n<text fill=\"#000000\" font-family=\"Times,serif\" font-size=\"14.00\" text-anchor=\"middle\" x=\"1345.5\" y=\"-394.8\">gini = 0.439</text>\n<text fill=\"#000000\" font-family=\"Times,serif\" font-size=\"14.00\" text-anchor=\"middle\" x=\"1345.5\" y=\"-379.8\">samples = 310</text>\n<text fill=\"#000000\" font-family=\"Times,serif\" font-size=\"14.00\" text-anchor=\"middle\" x=\"1345.5\" y=\"-364.8\">value = [0, 42, 224, 44]</text>\n<text fill=\"#000000\" font-family=\"Times,serif\" font-size=\"14.00\" text-anchor=\"middle\" x=\"1345.5\" y=\"-349.8\">class = 2</text>\n</g>\n<!-- 5&#45;&gt;15 -->\n<g class=\"edge\" id=\"edge24\">\n<title>5-&gt;15</title>\n<path d=\"M1404.6726,-460.8796C1397.8543,-451.9633 1390.5844,-442.4565 1383.5579,-433.268\" fill=\"none\" stroke=\"#000000\"/>\n<polygon fill=\"#000000\" points=\"1386.318,-431.1156 1377.4632,-425.2981 1380.7575,-435.3678 1386.318,-431.1156\" stroke=\"#000000\"/>\n</g>\n<!-- 16 -->\n<g class=\"node\" id=\"node36\">\n<title>16</title>\n<polygon fill=\"#eda4f3\" points=\"1609.5,-425 1445.5,-425 1445.5,-342 1609.5,-342 1609.5,-425\" stroke=\"#000000\"/>\n<text fill=\"#000000\" font-family=\"Times,serif\" font-size=\"14.00\" text-anchor=\"middle\" x=\"1527.5\" y=\"-409.8\">battery_power &lt;= 1078.0</text>\n<text fill=\"#000000\" font-family=\"Times,serif\" font-size=\"14.00\" text-anchor=\"middle\" x=\"1527.5\" y=\"-394.8\">gini = 0.456</text>\n<text fill=\"#000000\" font-family=\"Times,serif\" font-size=\"14.00\" text-anchor=\"middle\" x=\"1527.5\" y=\"-379.8\">samples = 37</text>\n<text fill=\"#000000\" font-family=\"Times,serif\" font-size=\"14.00\" text-anchor=\"middle\" x=\"1527.5\" y=\"-364.8\">value = [0, 0, 13, 24]</text>\n<text fill=\"#000000\" font-family=\"Times,serif\" font-size=\"14.00\" text-anchor=\"middle\" x=\"1527.5\" y=\"-349.8\">class = 3</text>\n</g>\n<!-- 5&#45;&gt;16 -->\n<g class=\"edge\" id=\"edge35\">\n<title>5-&gt;16</title>\n<path d=\"M1468.3274,-460.8796C1475.1457,-451.9633 1482.4156,-442.4565 1489.4421,-433.268\" fill=\"none\" stroke=\"#000000\"/>\n<polygon fill=\"#000000\" points=\"1492.2425,-435.3678 1495.5368,-425.2981 1486.682,-431.1156 1492.2425,-435.3678\" stroke=\"#000000\"/>\n</g>\n<!-- 25 -->\n<g class=\"node\" id=\"node26\">\n<title>25</title>\n<polygon fill=\"#79bded\" points=\"1271,-306 1124,-306 1124,-223 1271,-223 1271,-306\" stroke=\"#000000\"/>\n<text fill=\"#000000\" font-family=\"Times,serif\" font-size=\"14.00\" text-anchor=\"middle\" x=\"1197.5\" y=\"-290.8\">ram &lt;= 2461.5</text>\n<text fill=\"#000000\" font-family=\"Times,serif\" font-size=\"14.00\" text-anchor=\"middle\" x=\"1197.5\" y=\"-275.8\">gini = 0.378</text>\n<text fill=\"#000000\" font-family=\"Times,serif\" font-size=\"14.00\" text-anchor=\"middle\" x=\"1197.5\" y=\"-260.8\">samples = 170</text>\n<text fill=\"#000000\" font-family=\"Times,serif\" font-size=\"14.00\" text-anchor=\"middle\" x=\"1197.5\" y=\"-245.8\">value = [0, 40, 128, 2]</text>\n<text fill=\"#000000\" font-family=\"Times,serif\" font-size=\"14.00\" text-anchor=\"middle\" x=\"1197.5\" y=\"-230.8\">class = 2</text>\n</g>\n<!-- 15&#45;&gt;25 -->\n<g class=\"edge\" id=\"edge25\">\n<title>15-&gt;25</title>\n<path d=\"M1293.7368,-341.8796C1281.9072,-332.368 1269.2419,-322.1843 1257.1129,-312.432\" fill=\"none\" stroke=\"#000000\"/>\n<polygon fill=\"#000000\" points=\"1259.2204,-309.6355 1249.234,-306.0969 1254.8341,-315.0908 1259.2204,-309.6355\" stroke=\"#000000\"/>\n</g>\n<!-- 26 -->\n<g class=\"node\" id=\"node31\">\n<title>26</title>\n<polygon fill=\"#92c9f1\" points=\"1429.5,-306 1289.5,-306 1289.5,-223 1429.5,-223 1429.5,-306\" stroke=\"#000000\"/>\n<text fill=\"#000000\" font-family=\"Times,serif\" font-size=\"14.00\" text-anchor=\"middle\" x=\"1359.5\" y=\"-290.8\">px_width &lt;= 1413.0</text>\n<text fill=\"#000000\" font-family=\"Times,serif\" font-size=\"14.00\" text-anchor=\"middle\" x=\"1359.5\" y=\"-275.8\">gini = 0.44</text>\n<text fill=\"#000000\" font-family=\"Times,serif\" font-size=\"14.00\" text-anchor=\"middle\" x=\"1359.5\" y=\"-260.8\">samples = 140</text>\n<text fill=\"#000000\" font-family=\"Times,serif\" font-size=\"14.00\" text-anchor=\"middle\" x=\"1359.5\" y=\"-245.8\">value = [0, 2, 96, 42]</text>\n<text fill=\"#000000\" font-family=\"Times,serif\" font-size=\"14.00\" text-anchor=\"middle\" x=\"1359.5\" y=\"-230.8\">class = 2</text>\n</g>\n<!-- 15&#45;&gt;26 -->\n<g class=\"edge\" id=\"edge30\">\n<title>15-&gt;26</title>\n<path d=\"M1350.3965,-341.8796C1351.3607,-333.6838 1352.3836,-324.9891 1353.3822,-316.5013\" fill=\"none\" stroke=\"#000000\"/>\n<polygon fill=\"#000000\" points=\"1356.8901,-316.6386 1354.5826,-306.2981 1349.9381,-315.8206 1356.8901,-316.6386\" stroke=\"#000000\"/>\n</g>\n<!-- 29 -->\n<g class=\"node\" id=\"node27\">\n<title>29</title>\n<polygon fill=\"#d1f8ce\" points=\"1105.5,-187 965.5,-187 965.5,-104 1105.5,-104 1105.5,-187\" stroke=\"#000000\"/>\n<text fill=\"#000000\" font-family=\"Times,serif\" font-size=\"14.00\" text-anchor=\"middle\" x=\"1035.5\" y=\"-171.8\">px_width &lt;= 1281.5</text>\n<text fill=\"#000000\" font-family=\"Times,serif\" font-size=\"14.00\" text-anchor=\"middle\" x=\"1035.5\" y=\"-156.8\">gini = 0.49</text>\n<text fill=\"#000000\" font-family=\"Times,serif\" font-size=\"14.00\" text-anchor=\"middle\" x=\"1035.5\" y=\"-141.8\">samples = 49</text>\n<text fill=\"#000000\" font-family=\"Times,serif\" font-size=\"14.00\" text-anchor=\"middle\" x=\"1035.5\" y=\"-126.8\">value = [0, 28, 21, 0]</text>\n<text fill=\"#000000\" font-family=\"Times,serif\" font-size=\"14.00\" text-anchor=\"middle\" x=\"1035.5\" y=\"-111.8\">class = 1</text>\n</g>\n<!-- 25&#45;&gt;29 -->\n<g class=\"edge\" id=\"edge26\">\n<title>25-&gt;29</title>\n<path d=\"M1140.8403,-222.8796C1127.7684,-213.2774 1113.7641,-202.9903 1100.3727,-193.1534\" fill=\"none\" stroke=\"#000000\"/>\n<polygon fill=\"#000000\" points=\"1102.2591,-190.1963 1092.1277,-187.0969 1098.115,-195.8378 1102.2591,-190.1963\" stroke=\"#000000\"/>\n</g>\n<!-- 30 -->\n<g class=\"node\" id=\"node30\">\n<title>30</title>\n<polygon fill=\"#52aae8\" points=\"1271,-179.5 1124,-179.5 1124,-111.5 1271,-111.5 1271,-179.5\" stroke=\"#000000\"/>\n<text fill=\"#000000\" font-family=\"Times,serif\" font-size=\"14.00\" text-anchor=\"middle\" x=\"1197.5\" y=\"-164.3\">gini = 0.208</text>\n<text fill=\"#000000\" font-family=\"Times,serif\" font-size=\"14.00\" text-anchor=\"middle\" x=\"1197.5\" y=\"-149.3\">samples = 121</text>\n<text fill=\"#000000\" font-family=\"Times,serif\" font-size=\"14.00\" text-anchor=\"middle\" x=\"1197.5\" y=\"-134.3\">value = [0, 12, 107, 2]</text>\n<text fill=\"#000000\" font-family=\"Times,serif\" font-size=\"14.00\" text-anchor=\"middle\" x=\"1197.5\" y=\"-119.3\">class = 2</text>\n</g>\n<!-- 25&#45;&gt;30 -->\n<g class=\"edge\" id=\"edge29\">\n<title>25-&gt;30</title>\n<path d=\"M1197.5,-222.8796C1197.5,-212.2134 1197.5,-200.7021 1197.5,-189.9015\" fill=\"none\" stroke=\"#000000\"/>\n<polygon fill=\"#000000\" points=\"1201.0001,-189.8149 1197.5,-179.8149 1194.0001,-189.815 1201.0001,-189.8149\" stroke=\"#000000\"/>\n</g>\n<!-- 31 -->\n<g class=\"node\" id=\"node28\">\n<title>31</title>\n<polygon fill=\"#5be84f\" points=\"1096.5,-68 964.5,-68 964.5,0 1096.5,0 1096.5,-68\" stroke=\"#000000\"/>\n<text fill=\"#000000\" font-family=\"Times,serif\" font-size=\"14.00\" text-anchor=\"middle\" x=\"1030.5\" y=\"-52.8\">gini = 0.18</text>\n<text fill=\"#000000\" font-family=\"Times,serif\" font-size=\"14.00\" text-anchor=\"middle\" x=\"1030.5\" y=\"-37.8\">samples = 30</text>\n<text fill=\"#000000\" font-family=\"Times,serif\" font-size=\"14.00\" text-anchor=\"middle\" x=\"1030.5\" y=\"-22.8\">value = [0, 27, 3, 0]</text>\n<text fill=\"#000000\" font-family=\"Times,serif\" font-size=\"14.00\" text-anchor=\"middle\" x=\"1030.5\" y=\"-7.8\">class = 1</text>\n</g>\n<!-- 29&#45;&gt;31 -->\n<g class=\"edge\" id=\"edge27\">\n<title>29-&gt;31</title>\n<path d=\"M1033.6382,-103.9815C1033.2631,-95.618 1032.8676,-86.7965 1032.4884,-78.3409\" fill=\"none\" stroke=\"#000000\"/>\n<polygon fill=\"#000000\" points=\"1035.981,-78.0968 1032.0365,-68.2637 1028.9881,-78.4105 1035.981,-78.0968\" stroke=\"#000000\"/>\n</g>\n<!-- 32 -->\n<g class=\"node\" id=\"node29\">\n<title>32</title>\n<polygon fill=\"#44a2e6\" points=\"1246.5,-68 1114.5,-68 1114.5,0 1246.5,0 1246.5,-68\" stroke=\"#000000\"/>\n<text fill=\"#000000\" font-family=\"Times,serif\" font-size=\"14.00\" text-anchor=\"middle\" x=\"1180.5\" y=\"-52.8\">gini = 0.1</text>\n<text fill=\"#000000\" font-family=\"Times,serif\" font-size=\"14.00\" text-anchor=\"middle\" x=\"1180.5\" y=\"-37.8\">samples = 19</text>\n<text fill=\"#000000\" font-family=\"Times,serif\" font-size=\"14.00\" text-anchor=\"middle\" x=\"1180.5\" y=\"-22.8\">value = [0, 1, 18, 0]</text>\n<text fill=\"#000000\" font-family=\"Times,serif\" font-size=\"14.00\" text-anchor=\"middle\" x=\"1180.5\" y=\"-7.8\">class = 2</text>\n</g>\n<!-- 29&#45;&gt;32 -->\n<g class=\"edge\" id=\"edge28\">\n<title>29-&gt;32</title>\n<path d=\"M1089.4926,-103.9815C1102.0422,-94.3313 1115.3847,-84.0714 1127.8744,-74.4673\" fill=\"none\" stroke=\"#000000\"/>\n<polygon fill=\"#000000\" points=\"1130.1481,-77.134 1135.9419,-68.2637 1125.881,-71.585 1130.1481,-77.134\" stroke=\"#000000\"/>\n</g>\n<!-- 27 -->\n<g class=\"node\" id=\"node32\">\n<title>27</title>\n<polygon fill=\"#5caeea\" points=\"1429.5,-187 1289.5,-187 1289.5,-104 1429.5,-104 1429.5,-187\" stroke=\"#000000\"/>\n<text fill=\"#000000\" font-family=\"Times,serif\" font-size=\"14.00\" text-anchor=\"middle\" x=\"1359.5\" y=\"-171.8\">ram &lt;= 2856.5</text>\n<text fill=\"#000000\" font-family=\"Times,serif\" font-size=\"14.00\" text-anchor=\"middle\" x=\"1359.5\" y=\"-156.8\">gini = 0.267</text>\n<text fill=\"#000000\" font-family=\"Times,serif\" font-size=\"14.00\" text-anchor=\"middle\" x=\"1359.5\" y=\"-141.8\">samples = 97</text>\n<text fill=\"#000000\" font-family=\"Times,serif\" font-size=\"14.00\" text-anchor=\"middle\" x=\"1359.5\" y=\"-126.8\">value = [0, 2, 82, 13]</text>\n<text fill=\"#000000\" font-family=\"Times,serif\" font-size=\"14.00\" text-anchor=\"middle\" x=\"1359.5\" y=\"-111.8\">class = 2</text>\n</g>\n<!-- 26&#45;&gt;27 -->\n<g class=\"edge\" id=\"edge31\">\n<title>26-&gt;27</title>\n<path d=\"M1359.5,-222.8796C1359.5,-214.6838 1359.5,-205.9891 1359.5,-197.5013\" fill=\"none\" stroke=\"#000000\"/>\n<polygon fill=\"#000000\" points=\"1363.0001,-197.298 1359.5,-187.2981 1356.0001,-197.2981 1363.0001,-197.298\" stroke=\"#000000\"/>\n</g>\n<!-- 28 -->\n<g class=\"node\" id=\"node35\">\n<title>28</title>\n<polygon fill=\"#ea99f2\" points=\"1587.5,-179.5 1447.5,-179.5 1447.5,-111.5 1587.5,-111.5 1587.5,-179.5\" stroke=\"#000000\"/>\n<text fill=\"#000000\" font-family=\"Times,serif\" font-size=\"14.00\" text-anchor=\"middle\" x=\"1517.5\" y=\"-164.3\">gini = 0.439</text>\n<text fill=\"#000000\" font-family=\"Times,serif\" font-size=\"14.00\" text-anchor=\"middle\" x=\"1517.5\" y=\"-149.3\">samples = 43</text>\n<text fill=\"#000000\" font-family=\"Times,serif\" font-size=\"14.00\" text-anchor=\"middle\" x=\"1517.5\" y=\"-134.3\">value = [0, 0, 14, 29]</text>\n<text fill=\"#000000\" font-family=\"Times,serif\" font-size=\"14.00\" text-anchor=\"middle\" x=\"1517.5\" y=\"-119.3\">class = 3</text>\n</g>\n<!-- 26&#45;&gt;28 -->\n<g class=\"edge\" id=\"edge34\">\n<title>26-&gt;28</title>\n<path d=\"M1414.7607,-222.8796C1430.7503,-210.8368 1448.1703,-197.7167 1464.0474,-185.7586\" fill=\"none\" stroke=\"#000000\"/>\n<polygon fill=\"#000000\" points=\"1466.3116,-188.435 1472.1938,-179.623 1462.1002,-182.8435 1466.3116,-188.435\" stroke=\"#000000\"/>\n</g>\n<!-- 41 -->\n<g class=\"node\" id=\"node33\">\n<title>41</title>\n<polygon fill=\"#46a3e7\" points=\"1413.5,-68 1281.5,-68 1281.5,0 1413.5,0 1413.5,-68\" stroke=\"#000000\"/>\n<text fill=\"#000000\" font-family=\"Times,serif\" font-size=\"14.00\" text-anchor=\"middle\" x=\"1347.5\" y=\"-52.8\">gini = 0.119</text>\n<text fill=\"#000000\" font-family=\"Times,serif\" font-size=\"14.00\" text-anchor=\"middle\" x=\"1347.5\" y=\"-37.8\">samples = 80</text>\n<text fill=\"#000000\" font-family=\"Times,serif\" font-size=\"14.00\" text-anchor=\"middle\" x=\"1347.5\" y=\"-22.8\">value = [0, 2, 75, 3]</text>\n<text fill=\"#000000\" font-family=\"Times,serif\" font-size=\"14.00\" text-anchor=\"middle\" x=\"1347.5\" y=\"-7.8\">class = 2</text>\n</g>\n<!-- 27&#45;&gt;41 -->\n<g class=\"edge\" id=\"edge32\">\n<title>27-&gt;41</title>\n<path d=\"M1355.0316,-103.9815C1354.1315,-95.618 1353.1821,-86.7965 1352.2721,-78.3409\" fill=\"none\" stroke=\"#000000\"/>\n<polygon fill=\"#000000\" points=\"1355.7376,-77.8317 1351.1876,-68.2637 1348.7778,-78.5808 1355.7376,-77.8317\" stroke=\"#000000\"/>\n</g>\n<!-- 42 -->\n<g class=\"node\" id=\"node34\">\n<title>42</title>\n<polygon fill=\"#f3c4f7\" points=\"1563.5,-68 1431.5,-68 1431.5,0 1563.5,0 1563.5,-68\" stroke=\"#000000\"/>\n<text fill=\"#000000\" font-family=\"Times,serif\" font-size=\"14.00\" text-anchor=\"middle\" x=\"1497.5\" y=\"-52.8\">gini = 0.484</text>\n<text fill=\"#000000\" font-family=\"Times,serif\" font-size=\"14.00\" text-anchor=\"middle\" x=\"1497.5\" y=\"-37.8\">samples = 17</text>\n<text fill=\"#000000\" font-family=\"Times,serif\" font-size=\"14.00\" text-anchor=\"middle\" x=\"1497.5\" y=\"-22.8\">value = [0, 0, 7, 10]</text>\n<text fill=\"#000000\" font-family=\"Times,serif\" font-size=\"14.00\" text-anchor=\"middle\" x=\"1497.5\" y=\"-7.8\">class = 3</text>\n</g>\n<!-- 27&#45;&gt;42 -->\n<g class=\"edge\" id=\"edge33\">\n<title>27-&gt;42</title>\n<path d=\"M1410.8861,-103.9815C1422.7161,-94.4232 1435.2864,-84.2668 1447.0751,-74.7419\" fill=\"none\" stroke=\"#000000\"/>\n<polygon fill=\"#000000\" points=\"1449.5142,-77.2708 1455.0929,-68.2637 1445.1149,-71.826 1449.5142,-77.2708\" stroke=\"#000000\"/>\n</g>\n<!-- 39 -->\n<g class=\"node\" id=\"node37\">\n<title>39</title>\n<polygon fill=\"#94caf1\" points=\"1579.5,-298.5 1447.5,-298.5 1447.5,-230.5 1579.5,-230.5 1579.5,-298.5\" stroke=\"#000000\"/>\n<text fill=\"#000000\" font-family=\"Times,serif\" font-size=\"14.00\" text-anchor=\"middle\" x=\"1513.5\" y=\"-283.3\">gini = 0.432</text>\n<text fill=\"#000000\" font-family=\"Times,serif\" font-size=\"14.00\" text-anchor=\"middle\" x=\"1513.5\" y=\"-268.3\">samples = 19</text>\n<text fill=\"#000000\" font-family=\"Times,serif\" font-size=\"14.00\" text-anchor=\"middle\" x=\"1513.5\" y=\"-253.3\">value = [0, 0, 13, 6]</text>\n<text fill=\"#000000\" font-family=\"Times,serif\" font-size=\"14.00\" text-anchor=\"middle\" x=\"1513.5\" y=\"-238.3\">class = 2</text>\n</g>\n<!-- 16&#45;&gt;39 -->\n<g class=\"edge\" id=\"edge36\">\n<title>16-&gt;39</title>\n<path d=\"M1522.6035,-341.8796C1521.3486,-331.2134 1519.9944,-319.7021 1518.7237,-308.9015\" fill=\"none\" stroke=\"#000000\"/>\n<polygon fill=\"#000000\" points=\"1522.1816,-308.3375 1517.5371,-298.8149 1515.2295,-309.1554 1522.1816,-308.3375\" stroke=\"#000000\"/>\n</g>\n<!-- 40 -->\n<g class=\"node\" id=\"node38\">\n<title>40</title>\n<polygon fill=\"#d739e5\" points=\"1729.5,-298.5 1597.5,-298.5 1597.5,-230.5 1729.5,-230.5 1729.5,-298.5\" stroke=\"#000000\"/>\n<text fill=\"#000000\" font-family=\"Times,serif\" font-size=\"14.00\" text-anchor=\"middle\" x=\"1663.5\" y=\"-283.3\">gini = 0.0</text>\n<text fill=\"#000000\" font-family=\"Times,serif\" font-size=\"14.00\" text-anchor=\"middle\" x=\"1663.5\" y=\"-268.3\">samples = 18</text>\n<text fill=\"#000000\" font-family=\"Times,serif\" font-size=\"14.00\" text-anchor=\"middle\" x=\"1663.5\" y=\"-253.3\">value = [0, 0, 0, 18]</text>\n<text fill=\"#000000\" font-family=\"Times,serif\" font-size=\"14.00\" text-anchor=\"middle\" x=\"1663.5\" y=\"-238.3\">class = 3</text>\n</g>\n<!-- 16&#45;&gt;40 -->\n<g class=\"edge\" id=\"edge37\">\n<title>16-&gt;40</title>\n<path d=\"M1575.0662,-341.8796C1588.5128,-330.1138 1603.1347,-317.3197 1616.5451,-305.5855\" fill=\"none\" stroke=\"#000000\"/>\n<polygon fill=\"#000000\" points=\"1619.0619,-308.034 1624.2829,-298.8149 1614.4524,-302.766 1619.0619,-308.034\" stroke=\"#000000\"/>\n</g>\n<!-- 17 -->\n<g class=\"node\" id=\"node40\">\n<title>17</title>\n<polygon fill=\"#f1bbf6\" points=\"1887.5,-425 1747.5,-425 1747.5,-342 1887.5,-342 1887.5,-425\" stroke=\"#000000\"/>\n<text fill=\"#000000\" font-family=\"Times,serif\" font-size=\"14.00\" text-anchor=\"middle\" x=\"1817.5\" y=\"-409.8\">px_height &lt;= 575.5</text>\n<text fill=\"#000000\" font-family=\"Times,serif\" font-size=\"14.00\" text-anchor=\"middle\" x=\"1817.5\" y=\"-394.8\">gini = 0.479</text>\n<text fill=\"#000000\" font-family=\"Times,serif\" font-size=\"14.00\" text-anchor=\"middle\" x=\"1817.5\" y=\"-379.8\">samples = 68</text>\n<text fill=\"#000000\" font-family=\"Times,serif\" font-size=\"14.00\" text-anchor=\"middle\" x=\"1817.5\" y=\"-364.8\">value = [0, 0, 27, 41]</text>\n<text fill=\"#000000\" font-family=\"Times,serif\" font-size=\"14.00\" text-anchor=\"middle\" x=\"1817.5\" y=\"-349.8\">class = 3</text>\n</g>\n<!-- 6&#45;&gt;17 -->\n<g class=\"edge\" id=\"edge39\">\n<title>6-&gt;17</title>\n<path d=\"M1817.5,-460.8796C1817.5,-452.6838 1817.5,-443.9891 1817.5,-435.5013\" fill=\"none\" stroke=\"#000000\"/>\n<polygon fill=\"#000000\" points=\"1821.0001,-435.298 1817.5,-425.2981 1814.0001,-435.2981 1821.0001,-435.298\" stroke=\"#000000\"/>\n</g>\n<!-- 18 -->\n<g class=\"node\" id=\"node45\">\n<title>18</title>\n<polygon fill=\"#d943e6\" points=\"2053,-417.5 1906,-417.5 1906,-349.5 2053,-349.5 2053,-417.5\" stroke=\"#000000\"/>\n<text fill=\"#000000\" font-family=\"Times,serif\" font-size=\"14.00\" text-anchor=\"middle\" x=\"1979.5\" y=\"-402.3\">gini = 0.095</text>\n<text fill=\"#000000\" font-family=\"Times,serif\" font-size=\"14.00\" text-anchor=\"middle\" x=\"1979.5\" y=\"-387.3\">samples = 240</text>\n<text fill=\"#000000\" font-family=\"Times,serif\" font-size=\"14.00\" text-anchor=\"middle\" x=\"1979.5\" y=\"-372.3\">value = [0, 0, 12, 228]</text>\n<text fill=\"#000000\" font-family=\"Times,serif\" font-size=\"14.00\" text-anchor=\"middle\" x=\"1979.5\" y=\"-357.3\">class = 3</text>\n</g>\n<!-- 6&#45;&gt;18 -->\n<g class=\"edge\" id=\"edge44\">\n<title>6-&gt;18</title>\n<path d=\"M1874.1597,-460.8796C1890.5541,-448.8368 1908.4151,-435.7167 1924.6942,-423.7586\" fill=\"none\" stroke=\"#000000\"/>\n<polygon fill=\"#000000\" points=\"1927.0595,-426.3639 1933.0468,-417.623 1922.9154,-420.7224 1927.0595,-426.3639\" stroke=\"#000000\"/>\n</g>\n<!-- 19 -->\n<g class=\"node\" id=\"node41\">\n<title>19</title>\n<polygon fill=\"#98ccf1\" points=\"1887.5,-306 1747.5,-306 1747.5,-223 1887.5,-223 1887.5,-306\" stroke=\"#000000\"/>\n<text fill=\"#000000\" font-family=\"Times,serif\" font-size=\"14.00\" text-anchor=\"middle\" x=\"1817.5\" y=\"-290.8\">ram &lt;= 3738.0</text>\n<text fill=\"#000000\" font-family=\"Times,serif\" font-size=\"14.00\" text-anchor=\"middle\" x=\"1817.5\" y=\"-275.8\">gini = 0.438</text>\n<text fill=\"#000000\" font-family=\"Times,serif\" font-size=\"14.00\" text-anchor=\"middle\" x=\"1817.5\" y=\"-260.8\">samples = 37</text>\n<text fill=\"#000000\" font-family=\"Times,serif\" font-size=\"14.00\" text-anchor=\"middle\" x=\"1817.5\" y=\"-245.8\">value = [0, 0, 25, 12]</text>\n<text fill=\"#000000\" font-family=\"Times,serif\" font-size=\"14.00\" text-anchor=\"middle\" x=\"1817.5\" y=\"-230.8\">class = 2</text>\n</g>\n<!-- 17&#45;&gt;19 -->\n<g class=\"edge\" id=\"edge40\">\n<title>17-&gt;19</title>\n<path d=\"M1817.5,-341.8796C1817.5,-333.6838 1817.5,-324.9891 1817.5,-316.5013\" fill=\"none\" stroke=\"#000000\"/>\n<polygon fill=\"#000000\" points=\"1821.0001,-316.298 1817.5,-306.2981 1814.0001,-316.2981 1821.0001,-316.298\" stroke=\"#000000\"/>\n</g>\n<!-- 20 -->\n<g class=\"node\" id=\"node44\">\n<title>20</title>\n<polygon fill=\"#da47e7\" points=\"2037.5,-298.5 1905.5,-298.5 1905.5,-230.5 2037.5,-230.5 2037.5,-298.5\" stroke=\"#000000\"/>\n<text fill=\"#000000\" font-family=\"Times,serif\" font-size=\"14.00\" text-anchor=\"middle\" x=\"1971.5\" y=\"-283.3\">gini = 0.121</text>\n<text fill=\"#000000\" font-family=\"Times,serif\" font-size=\"14.00\" text-anchor=\"middle\" x=\"1971.5\" y=\"-268.3\">samples = 31</text>\n<text fill=\"#000000\" font-family=\"Times,serif\" font-size=\"14.00\" text-anchor=\"middle\" x=\"1971.5\" y=\"-253.3\">value = [0, 0, 2, 29]</text>\n<text fill=\"#000000\" font-family=\"Times,serif\" font-size=\"14.00\" text-anchor=\"middle\" x=\"1971.5\" y=\"-238.3\">class = 3</text>\n</g>\n<!-- 17&#45;&gt;20 -->\n<g class=\"edge\" id=\"edge43\">\n<title>17-&gt;20</title>\n<path d=\"M1871.3617,-341.8796C1886.7304,-330.0038 1903.4547,-317.0804 1918.7559,-305.2568\" fill=\"none\" stroke=\"#000000\"/>\n<polygon fill=\"#000000\" points=\"1921.3196,-307.699 1927.0924,-298.8149 1917.0395,-302.1599 1921.3196,-307.699\" stroke=\"#000000\"/>\n</g>\n<!-- 35 -->\n<g class=\"node\" id=\"node42\">\n<title>35</title>\n<polygon fill=\"#4aa6e7\" points=\"1810.5,-179.5 1678.5,-179.5 1678.5,-111.5 1810.5,-111.5 1810.5,-179.5\" stroke=\"#000000\"/>\n<text fill=\"#000000\" font-family=\"Times,serif\" font-size=\"14.00\" text-anchor=\"middle\" x=\"1744.5\" y=\"-164.3\">gini = 0.147</text>\n<text fill=\"#000000\" font-family=\"Times,serif\" font-size=\"14.00\" text-anchor=\"middle\" x=\"1744.5\" y=\"-149.3\">samples = 25</text>\n<text fill=\"#000000\" font-family=\"Times,serif\" font-size=\"14.00\" text-anchor=\"middle\" x=\"1744.5\" y=\"-134.3\">value = [0, 0, 23, 2]</text>\n<text fill=\"#000000\" font-family=\"Times,serif\" font-size=\"14.00\" text-anchor=\"middle\" x=\"1744.5\" y=\"-119.3\">class = 2</text>\n</g>\n<!-- 19&#45;&gt;35 -->\n<g class=\"edge\" id=\"edge41\">\n<title>19-&gt;35</title>\n<path d=\"M1791.9681,-222.8796C1785.1552,-211.7735 1777.7802,-199.7513 1770.9206,-188.5691\" fill=\"none\" stroke=\"#000000\"/>\n<polygon fill=\"#000000\" points=\"1773.7628,-186.5087 1765.5503,-179.8149 1767.796,-190.1691 1773.7628,-186.5087\" stroke=\"#000000\"/>\n</g>\n<!-- 36 -->\n<g class=\"node\" id=\"node43\">\n<title>36</title>\n<polygon fill=\"#df61ea\" points=\"1960.5,-179.5 1828.5,-179.5 1828.5,-111.5 1960.5,-111.5 1960.5,-179.5\" stroke=\"#000000\"/>\n<text fill=\"#000000\" font-family=\"Times,serif\" font-size=\"14.00\" text-anchor=\"middle\" x=\"1894.5\" y=\"-164.3\">gini = 0.278</text>\n<text fill=\"#000000\" font-family=\"Times,serif\" font-size=\"14.00\" text-anchor=\"middle\" x=\"1894.5\" y=\"-149.3\">samples = 12</text>\n<text fill=\"#000000\" font-family=\"Times,serif\" font-size=\"14.00\" text-anchor=\"middle\" x=\"1894.5\" y=\"-134.3\">value = [0, 0, 2, 10]</text>\n<text fill=\"#000000\" font-family=\"Times,serif\" font-size=\"14.00\" text-anchor=\"middle\" x=\"1894.5\" y=\"-119.3\">class = 3</text>\n</g>\n<!-- 19&#45;&gt;36 -->\n<g class=\"edge\" id=\"edge42\">\n<title>19-&gt;36</title>\n<path d=\"M1844.4309,-222.8796C1851.6883,-211.6636 1859.5503,-199.5131 1866.8465,-188.2372\" fill=\"none\" stroke=\"#000000\"/>\n<polygon fill=\"#000000\" points=\"1869.8022,-190.112 1872.2962,-179.8149 1863.9252,-186.3093 1869.8022,-190.112\" stroke=\"#000000\"/>\n</g>\n</g>\n</svg>",
            "text/plain": [
              "<IPython.core.display.SVG object>"
            ]
          },
          "metadata": {},
          "output_type": "display_data"
        }
      ]
    },
    {
      "cell_type": "markdown",
      "metadata": {
        "id": "jteN3q7pqBeO"
      },
      "source": [
        "#Knn Classifier"
      ]
    },
    {
      "cell_type": "code",
      "metadata": {
        "id": "jMrVEf4AmWMn"
      },
      "source": [
        "from sklearn.model_selection import GridSearchCV\n",
        "from sklearn.neighbors import KNeighborsClassifier"
      ],
      "execution_count": null,
      "outputs": []
    },
    {
      "cell_type": "code",
      "metadata": {
        "id": "kRkQ4nBf7h6f"
      },
      "source": [
        "train_X,test_X,train_y,test_y = train_test_split(mobile_price_prediction[mobile_price_prediction.columns.difference(['price_range'])],\n",
        "                                                 mobile_price_prediction['price_range'],\n",
        "                                                test_size=0.3,random_state=0)"
      ],
      "execution_count": null,
      "outputs": []
    },
    {
      "cell_type": "code",
      "metadata": {
        "colab": {
          "base_uri": "https://localhost:8080/",
          "height": 475
        },
        "id": "DeJHGxCMo0pR",
        "outputId": "e3437706-a705-4341-d181-68f8a5359873"
      },
      "source": [
        "neighbors = np.arange(1,10)\n",
        "train_accuracy =np.empty(len(neighbors))\n",
        "test_accuracy = np.empty(len(neighbors))\n",
        "\n",
        "for i,k in enumerate(neighbors):\n",
        "    knn_clf = KNeighborsClassifier(n_neighbors = k)\n",
        "    knn_clf.fit(train_X, train_y)\n",
        "    train_accuracy[i] = knn_clf.score(train_X, train_y)\n",
        "    test_accuracy[i] = knn_clf.score(test_X, test_y) \n",
        "\n",
        "plt.figure(figsize= (10,5))\n",
        "plt.title('k-NN Varying number of neighbors')\n",
        "plt.plot(neighbors, test_accuracy, label='Testing Accuracy')\n",
        "plt.plot(neighbors, train_accuracy, label='Training accuracy')\n",
        "plt.legend()\n",
        "plt.xlabel('Number of neighbors')\n",
        "plt.ylabel('Accuracy')\n",
        "plt.grid()\n",
        "plt.show()"
      ],
      "execution_count": null,
      "outputs": [
        {
          "data": {
            "image/png": "[encoded data removed]",
            "text/plain": [
              "<Figure size 1000x500 with 1 Axes>"
            ]
          },
          "metadata": {},
          "output_type": "display_data"
        }
      ]
    },
    {
      "cell_type": "code",
      "metadata": {
        "colab": {
          "base_uri": "https://localhost:8080/"
        },
        "id": "6j7VgtSl72jx",
        "outputId": "2e4eaa30-9c21-4352-c20b-9ce6cb447357"
      },
      "source": [
        "knn_clf = KNeighborsClassifier(n_neighbors = 7)\n",
        "knn_clf.fit(train_X, train_y)"
      ],
      "execution_count": null,
      "outputs": [
        {
          "data": {
            "text/plain": [
              "KNeighborsClassifier(algorithm='auto', leaf_size=30, metric='minkowski',\n",
              "                     metric_params=None, n_jobs=None, n_neighbors=7, p=2,\n",
              "                     weights='uniform')"
            ]
          },
          "execution_count": 57,
          "metadata": {},
          "output_type": "execute_result"
        }
      ]
    },
    {
      "cell_type": "code",
      "metadata": {
        "id": "3npjWBHK8V28"
      },
      "source": [
        "y_test_prediction = knn_clf.predict(test_X)\n",
        "y_train_prediction = knn_clf.predict(train_X)"
      ],
      "execution_count": null,
      "outputs": []
    },
    {
      "cell_type": "code",
      "metadata": {
        "colab": {
          "base_uri": "https://localhost:8080/",
          "height": 265
        },
        "id": "I5M2h80Vo64h",
        "outputId": "070097fa-5316-4401-89e4-abcd962dee3f"
      },
      "source": [
        "reportKnn = classification_report(test_y, y_test_prediction, output_dict = True)\n",
        "crLReg = pd.DataFrame(reportKnn).transpose()\n",
        "crLReg"
      ],
      "execution_count": null,
      "outputs": [
        {
          "data": {
            "text/html": [
              "<div>\n",
              "<style scoped>\n",
              "    .dataframe tbody tr th:only-of-type {\n",
              "        vertical-align: middle;\n",
              "    }\n",
              "\n",
              "    .dataframe tbody tr th {\n",
              "        vertical-align: top;\n",
              "    }\n",
              "\n",
              "    .dataframe thead th {\n",
              "        text-align: right;\n",
              "    }\n",
              "</style>\n",
              "<table border=\"1\" class=\"dataframe\">\n",
              "  <thead>\n",
              "    <tr style=\"text-align: right;\">\n",
              "      <th></th>\n",
              "      <th>precision</th>\n",
              "      <th>recall</th>\n",
              "      <th>f1-score</th>\n",
              "      <th>support</th>\n",
              "    </tr>\n",
              "  </thead>\n",
              "  <tbody>\n",
              "    <tr>\n",
              "      <th>0</th>\n",
              "      <td>0.967742</td>\n",
              "      <td>0.993377</td>\n",
              "      <td>0.980392</td>\n",
              "      <td>151.000000</td>\n",
              "    </tr>\n",
              "    <tr>\n",
              "      <th>1</th>\n",
              "      <td>0.940299</td>\n",
              "      <td>0.933333</td>\n",
              "      <td>0.936803</td>\n",
              "      <td>135.000000</td>\n",
              "    </tr>\n",
              "    <tr>\n",
              "      <th>2</th>\n",
              "      <td>0.912752</td>\n",
              "      <td>0.900662</td>\n",
              "      <td>0.906667</td>\n",
              "      <td>151.000000</td>\n",
              "    </tr>\n",
              "    <tr>\n",
              "      <th>3</th>\n",
              "      <td>0.950617</td>\n",
              "      <td>0.944785</td>\n",
              "      <td>0.947692</td>\n",
              "      <td>163.000000</td>\n",
              "    </tr>\n",
              "    <tr>\n",
              "      <th>accuracy</th>\n",
              "      <td>0.943333</td>\n",
              "      <td>0.943333</td>\n",
              "      <td>0.943333</td>\n",
              "      <td>0.943333</td>\n",
              "    </tr>\n",
              "    <tr>\n",
              "      <th>macro avg</th>\n",
              "      <td>0.942852</td>\n",
              "      <td>0.943040</td>\n",
              "      <td>0.942889</td>\n",
              "      <td>600.000000</td>\n",
              "    </tr>\n",
              "    <tr>\n",
              "      <th>weighted avg</th>\n",
              "      <td>0.943076</td>\n",
              "      <td>0.943333</td>\n",
              "      <td>0.943147</td>\n",
              "      <td>600.000000</td>\n",
              "    </tr>\n",
              "  </tbody>\n",
              "</table>\n",
              "</div>"
            ],
            "text/plain": [
              "              precision    recall  f1-score     support\n",
              "0              0.967742  0.993377  0.980392  151.000000\n",
              "1              0.940299  0.933333  0.936803  135.000000\n",
              "2              0.912752  0.900662  0.906667  151.000000\n",
              "3              0.950617  0.944785  0.947692  163.000000\n",
              "accuracy       0.943333  0.943333  0.943333    0.943333\n",
              "macro avg      0.942852  0.943040  0.942889  600.000000\n",
              "weighted avg   0.943076  0.943333  0.943147  600.000000"
            ]
          },
          "execution_count": 59,
          "metadata": {},
          "output_type": "execute_result"
        }
      ]
    },
    {
      "cell_type": "code",
      "metadata": {
        "colab": {
          "base_uri": "https://localhost:8080/",
          "height": 265
        },
        "id": "YLcsU6cG8Jck",
        "outputId": "ac1d1bb8-3a15-44bb-9c6f-ee5796c90a1f"
      },
      "source": [
        "reportKnn = classification_report(train_y, y_train_prediction, output_dict = True)\n",
        "crLReg = pd.DataFrame(reportKnn).transpose()\n",
        "crLReg"
      ],
      "execution_count": null,
      "outputs": [
        {
          "data": {
            "text/html": [
              "<div>\n",
              "<style scoped>\n",
              "    .dataframe tbody tr th:only-of-type {\n",
              "        vertical-align: middle;\n",
              "    }\n",
              "\n",
              "    .dataframe tbody tr th {\n",
              "        vertical-align: top;\n",
              "    }\n",
              "\n",
              "    .dataframe thead th {\n",
              "        text-align: right;\n",
              "    }\n",
              "</style>\n",
              "<table border=\"1\" class=\"dataframe\">\n",
              "  <thead>\n",
              "    <tr style=\"text-align: right;\">\n",
              "      <th></th>\n",
              "      <th>precision</th>\n",
              "      <th>recall</th>\n",
              "      <th>f1-score</th>\n",
              "      <th>support</th>\n",
              "    </tr>\n",
              "  </thead>\n",
              "  <tbody>\n",
              "    <tr>\n",
              "      <th>0</th>\n",
              "      <td>0.968750</td>\n",
              "      <td>0.977077</td>\n",
              "      <td>0.972896</td>\n",
              "      <td>349.000</td>\n",
              "    </tr>\n",
              "    <tr>\n",
              "      <th>1</th>\n",
              "      <td>0.927419</td>\n",
              "      <td>0.945205</td>\n",
              "      <td>0.936228</td>\n",
              "      <td>365.000</td>\n",
              "    </tr>\n",
              "    <tr>\n",
              "      <th>2</th>\n",
              "      <td>0.919308</td>\n",
              "      <td>0.914040</td>\n",
              "      <td>0.916667</td>\n",
              "      <td>349.000</td>\n",
              "    </tr>\n",
              "    <tr>\n",
              "      <th>3</th>\n",
              "      <td>0.966565</td>\n",
              "      <td>0.943620</td>\n",
              "      <td>0.954955</td>\n",
              "      <td>337.000</td>\n",
              "    </tr>\n",
              "    <tr>\n",
              "      <th>accuracy</th>\n",
              "      <td>0.945000</td>\n",
              "      <td>0.945000</td>\n",
              "      <td>0.945000</td>\n",
              "      <td>0.945</td>\n",
              "    </tr>\n",
              "    <tr>\n",
              "      <th>macro avg</th>\n",
              "      <td>0.945511</td>\n",
              "      <td>0.944986</td>\n",
              "      <td>0.945186</td>\n",
              "      <td>1400.000</td>\n",
              "    </tr>\n",
              "    <tr>\n",
              "      <th>weighted avg</th>\n",
              "      <td>0.945124</td>\n",
              "      <td>0.945000</td>\n",
              "      <td>0.945000</td>\n",
              "      <td>1400.000</td>\n",
              "    </tr>\n",
              "  </tbody>\n",
              "</table>\n",
              "</div>"
            ],
            "text/plain": [
              "              precision    recall  f1-score   support\n",
              "0              0.968750  0.977077  0.972896   349.000\n",
              "1              0.927419  0.945205  0.936228   365.000\n",
              "2              0.919308  0.914040  0.916667   349.000\n",
              "3              0.966565  0.943620  0.954955   337.000\n",
              "accuracy       0.945000  0.945000  0.945000     0.945\n",
              "macro avg      0.945511  0.944986  0.945186  1400.000\n",
              "weighted avg   0.945124  0.945000  0.945000  1400.000"
            ]
          },
          "execution_count": 60,
          "metadata": {},
          "output_type": "execute_result"
        }
      ]
    },
    {
      "cell_type": "markdown",
      "metadata": {
        "id": "1pjWtzChhxFI"
      },
      "source": [
        "#XGBoost"
      ]
    },
    {
      "cell_type": "code",
      "metadata": {
        "id": "FRgEv7BliCDZ"
      },
      "source": [
        "from xgboost import XGBClassifier "
      ],
      "execution_count": null,
      "outputs": []
    },
    {
      "cell_type": "code",
      "metadata": {
        "id": "VdJazZ34hrr1"
      },
      "source": [
        "xgb_model = XGBClassifier()"
      ],
      "execution_count": null,
      "outputs": []
    },
    {
      "cell_type": "code",
      "metadata": {
        "colab": {
          "background_save": true
        },
        "id": "i24JIaBPiRx7",
        "outputId": "7608714a-448a-4833-990c-f3941bc08848"
      },
      "source": [
        "param={\n",
        "    'learning_rate':[0.01, 0.025, 0.05, 0.75, 0.10],\n",
        "    'max_depth':[3,4,5],\n",
        "    'n_estimators':[25,50,75,100,150,200],\n",
        "    'min_child_weight':[1,2,3,4]\n",
        "}\n",
        "grid_search = GridSearchCV(xgb_model, param,cv=5)\n",
        "grid_search.fit(train_X,train_y)"
      ],
      "execution_count": null,
      "outputs": [
        {
          "data": {
            "text/plain": [
              "GridSearchCV(cv=5, error_score=nan,\n",
              "             estimator=XGBClassifier(base_score=0.5, booster='gbtree',\n",
              "                                     colsample_bylevel=1, colsample_bynode=1,\n",
              "                                     colsample_bytree=1, gamma=0,\n",
              "                                     learning_rate=0.1, max_delta_step=0,\n",
              "                                     max_depth=3, min_child_weight=1,\n",
              "                                     missing=None, n_estimators=100, n_jobs=1,\n",
              "                                     nthread=None, objective='binary:logistic',\n",
              "                                     random_state=0, reg_alpha=0, reg_lambda=1,\n",
              "                                     scale_pos_weight=1, seed=None, silent=None,\n",
              "                                     subsample=1, verbosity=1),\n",
              "             iid='deprecated', n_jobs=None,\n",
              "             param_grid={'learning_rate': [0.01, 0.025, 0.05, 0.75, 0.1],\n",
              "                         'max_depth': [3, 4, 5],\n",
              "                         'min_child_weight': [1, 2, 3, 4],\n",
              "                         'n_estimators': [25, 50, 75, 100, 150, 200]},\n",
              "             pre_dispatch='2*n_jobs', refit=True, return_train_score=False,\n",
              "             scoring=None, verbose=0)"
            ]
          },
          "execution_count": null,
          "metadata": {},
          "output_type": "execute_result"
        }
      ]
    },
    {
      "cell_type": "code",
      "metadata": {
        "colab": {
          "background_save": true
        },
        "id": "fVcvc4aMjGvM",
        "outputId": "fe681c2c-02b6-42ae-a137-cd7037905fc8"
      },
      "source": [
        "grid_search.best_params_"
      ],
      "execution_count": null,
      "outputs": [
        {
          "data": {
            "text/plain": [
              "{'learning_rate': 0.75,\n",
              " 'max_depth': 4,\n",
              " 'min_child_weight': 3,\n",
              " 'n_estimators': 75}"
            ]
          },
          "execution_count": null,
          "metadata": {},
          "output_type": "execute_result"
        }
      ]
    },
    {
      "cell_type": "code",
      "metadata": {
        "colab": {
          "background_save": true
        },
        "id": "eB7fIbGHo4o9",
        "outputId": "626be358-06ce-492b-afd1-197dd5d17415"
      },
      "source": [
        "xgb_model=XGBClassifier(learning_rate= 0.75,\n",
        " max_depth = 4,\n",
        " min_child_weight = 3,\n",
        " n_estimators = 75)\n",
        "xgb_model.fit(train_X, train_y)"
      ],
      "execution_count": null,
      "outputs": [
        {
          "data": {
            "text/plain": [
              "XGBClassifier(base_score=0.5, booster='gbtree', colsample_bylevel=1,\n",
              "              colsample_bynode=1, colsample_bytree=1, gamma=0,\n",
              "              learning_rate=0.75, max_delta_step=0, max_depth=4,\n",
              "              min_child_weight=3, missing=None, n_estimators=75, n_jobs=1,\n",
              "              nthread=None, objective='multi:softprob', random_state=0,\n",
              "              reg_alpha=0, reg_lambda=1, scale_pos_weight=1, seed=None,\n",
              "              silent=None, subsample=1, verbosity=1)"
            ]
          },
          "execution_count": null,
          "metadata": {},
          "output_type": "execute_result"
        }
      ]
    },
    {
      "cell_type": "code",
      "metadata": {
        "colab": {
          "background_save": true
        },
        "id": "lEa0AamrUKr9"
      },
      "source": [
        "y_test_prediction = xgb_model.predict(test_X)\n",
        "y_train_prediction = xgb_model.predict(train_X)"
      ],
      "execution_count": null,
      "outputs": []
    },
    {
      "cell_type": "code",
      "metadata": {
        "colab": {
          "background_save": true
        },
        "id": "JoZfDqqiUcHJ",
        "outputId": "0f7e3897-9225-4198-a3dc-e4521b2143bf"
      },
      "source": [
        "reportxgb = classification_report(test_y, y_test_prediction, output_dict = True)\n",
        "crLReg = pd.DataFrame(reportxgb).transpose()\n",
        "crLReg"
      ],
      "execution_count": null,
      "outputs": [
        {
          "data": {
            "text/html": [
              "<div>\n",
              "<style scoped>\n",
              "    .dataframe tbody tr th:only-of-type {\n",
              "        vertical-align: middle;\n",
              "    }\n",
              "\n",
              "    .dataframe tbody tr th {\n",
              "        vertical-align: top;\n",
              "    }\n",
              "\n",
              "    .dataframe thead th {\n",
              "        text-align: right;\n",
              "    }\n",
              "</style>\n",
              "<table border=\"1\" class=\"dataframe\">\n",
              "  <thead>\n",
              "    <tr style=\"text-align: right;\">\n",
              "      <th></th>\n",
              "      <th>precision</th>\n",
              "      <th>recall</th>\n",
              "      <th>f1-score</th>\n",
              "      <th>support</th>\n",
              "    </tr>\n",
              "  </thead>\n",
              "  <tbody>\n",
              "    <tr>\n",
              "      <th>0</th>\n",
              "      <td>0.966216</td>\n",
              "      <td>0.947020</td>\n",
              "      <td>0.956522</td>\n",
              "      <td>151.00</td>\n",
              "    </tr>\n",
              "    <tr>\n",
              "      <th>1</th>\n",
              "      <td>0.872611</td>\n",
              "      <td>0.938356</td>\n",
              "      <td>0.904290</td>\n",
              "      <td>146.00</td>\n",
              "    </tr>\n",
              "    <tr>\n",
              "      <th>2</th>\n",
              "      <td>0.906475</td>\n",
              "      <td>0.851351</td>\n",
              "      <td>0.878049</td>\n",
              "      <td>148.00</td>\n",
              "    </tr>\n",
              "    <tr>\n",
              "      <th>3</th>\n",
              "      <td>0.935897</td>\n",
              "      <td>0.941935</td>\n",
              "      <td>0.938907</td>\n",
              "      <td>155.00</td>\n",
              "    </tr>\n",
              "    <tr>\n",
              "      <th>accuracy</th>\n",
              "      <td>0.920000</td>\n",
              "      <td>0.920000</td>\n",
              "      <td>0.920000</td>\n",
              "      <td>0.92</td>\n",
              "    </tr>\n",
              "    <tr>\n",
              "      <th>macro avg</th>\n",
              "      <td>0.920300</td>\n",
              "      <td>0.919666</td>\n",
              "      <td>0.919442</td>\n",
              "      <td>600.00</td>\n",
              "    </tr>\n",
              "    <tr>\n",
              "      <th>weighted avg</th>\n",
              "      <td>0.920870</td>\n",
              "      <td>0.920000</td>\n",
              "      <td>0.919905</td>\n",
              "      <td>600.00</td>\n",
              "    </tr>\n",
              "  </tbody>\n",
              "</table>\n",
              "</div>"
            ],
            "text/plain": [
              "              precision    recall  f1-score  support\n",
              "0              0.966216  0.947020  0.956522   151.00\n",
              "1              0.872611  0.938356  0.904290   146.00\n",
              "2              0.906475  0.851351  0.878049   148.00\n",
              "3              0.935897  0.941935  0.938907   155.00\n",
              "accuracy       0.920000  0.920000  0.920000     0.92\n",
              "macro avg      0.920300  0.919666  0.919442   600.00\n",
              "weighted avg   0.920870  0.920000  0.919905   600.00"
            ]
          },
          "execution_count": null,
          "metadata": {},
          "output_type": "execute_result"
        }
      ]
    },
    {
      "cell_type": "code",
      "metadata": {
        "colab": {
          "background_save": true
        },
        "id": "C77rHVulUdcC",
        "outputId": "738ee5c5-51ae-4428-f9c1-749d09335dd0"
      },
      "source": [
        "reportxgb = classification_report(train_y, y_train_prediction, output_dict = True)\n",
        "crLReg = pd.DataFrame(reportxgb).transpose()\n",
        "crLReg"
      ],
      "execution_count": null,
      "outputs": [
        {
          "data": {
            "text/html": [
              "<div>\n",
              "<style scoped>\n",
              "    .dataframe tbody tr th:only-of-type {\n",
              "        vertical-align: middle;\n",
              "    }\n",
              "\n",
              "    .dataframe tbody tr th {\n",
              "        vertical-align: top;\n",
              "    }\n",
              "\n",
              "    .dataframe thead th {\n",
              "        text-align: right;\n",
              "    }\n",
              "</style>\n",
              "<table border=\"1\" class=\"dataframe\">\n",
              "  <thead>\n",
              "    <tr style=\"text-align: right;\">\n",
              "      <th></th>\n",
              "      <th>precision</th>\n",
              "      <th>recall</th>\n",
              "      <th>f1-score</th>\n",
              "      <th>support</th>\n",
              "    </tr>\n",
              "  </thead>\n",
              "  <tbody>\n",
              "    <tr>\n",
              "      <th>0</th>\n",
              "      <td>1.0</td>\n",
              "      <td>1.0</td>\n",
              "      <td>1.0</td>\n",
              "      <td>349.0</td>\n",
              "    </tr>\n",
              "    <tr>\n",
              "      <th>1</th>\n",
              "      <td>1.0</td>\n",
              "      <td>1.0</td>\n",
              "      <td>1.0</td>\n",
              "      <td>354.0</td>\n",
              "    </tr>\n",
              "    <tr>\n",
              "      <th>2</th>\n",
              "      <td>1.0</td>\n",
              "      <td>1.0</td>\n",
              "      <td>1.0</td>\n",
              "      <td>352.0</td>\n",
              "    </tr>\n",
              "    <tr>\n",
              "      <th>3</th>\n",
              "      <td>1.0</td>\n",
              "      <td>1.0</td>\n",
              "      <td>1.0</td>\n",
              "      <td>345.0</td>\n",
              "    </tr>\n",
              "    <tr>\n",
              "      <th>accuracy</th>\n",
              "      <td>1.0</td>\n",
              "      <td>1.0</td>\n",
              "      <td>1.0</td>\n",
              "      <td>1.0</td>\n",
              "    </tr>\n",
              "    <tr>\n",
              "      <th>macro avg</th>\n",
              "      <td>1.0</td>\n",
              "      <td>1.0</td>\n",
              "      <td>1.0</td>\n",
              "      <td>1400.0</td>\n",
              "    </tr>\n",
              "    <tr>\n",
              "      <th>weighted avg</th>\n",
              "      <td>1.0</td>\n",
              "      <td>1.0</td>\n",
              "      <td>1.0</td>\n",
              "      <td>1400.0</td>\n",
              "    </tr>\n",
              "  </tbody>\n",
              "</table>\n",
              "</div>"
            ],
            "text/plain": [
              "              precision  recall  f1-score  support\n",
              "0                   1.0     1.0       1.0    349.0\n",
              "1                   1.0     1.0       1.0    354.0\n",
              "2                   1.0     1.0       1.0    352.0\n",
              "3                   1.0     1.0       1.0    345.0\n",
              "accuracy            1.0     1.0       1.0      1.0\n",
              "macro avg           1.0     1.0       1.0   1400.0\n",
              "weighted avg        1.0     1.0       1.0   1400.0"
            ]
          },
          "execution_count": null,
          "metadata": {},
          "output_type": "execute_result"
        }
      ]
    },
    {
      "cell_type": "code",
      "metadata": {
        "colab": {
          "background_save": true
        },
        "id": "RtW8KdWeUtR9"
      },
      "source": [
        "features = train_X.columns\n",
        "importances = xgb_model.feature_importances_\n",
        "indices = np.argsort(importances)"
      ],
      "execution_count": null,
      "outputs": []
    },
    {
      "cell_type": "code",
      "metadata": {
        "colab": {
          "background_save": true
        },
        "id": "FoinKc4bplW-",
        "outputId": "3a419238-69fb-44c9-f6de-b1465f2d567b"
      },
      "source": [
        "fig = plt.figure(figsize=(5,3))\n",
        "plt.title('Feature Importance')\n",
        "plt.barh(range(len(indices)), importances[indices], color='red', align='center')\n",
        "plt.yticks(range(len(indices)), [features[i] for i in indices])\n",
        "plt.xlabel('Relative Importance')\n",
        "plt.show()"
      ],
      "execution_count": null,
      "outputs": [
        {
          "data": {
            "image/png": "[encoded data removed]",
            "text/plain": [
              "<Figure size 500x300 with 1 Axes>"
            ]
          },
          "metadata": {},
          "output_type": "display_data"
        }
      ]
    },
    {
      "cell_type": "code",
      "metadata": {
        "colab": {
          "background_save": true
        },
        "id": "PX9JdKE6VHmY"
      },
      "source": [
        "from xgboost import plot_importance"
      ],
      "execution_count": null,
      "outputs": []
    },
    {
      "cell_type": "code",
      "metadata": {
        "colab": {
          "background_save": true
        },
        "id": "2h1PjU5npoNh",
        "outputId": "7931d6a3-e5ec-4b47-dc87-5bf2419ed2fb"
      },
      "source": [
        "plt.rcParams[\"figure.figsize\"] = (9,5)\n",
        "plot_importance(xgb_model,)\n",
        "plt.show()"
      ],
      "execution_count": null,
      "outputs": [
        {
          "data": {
            "image/png": "[encoded data removed]",
            "text/plain": [
              "<Figure size 900x500 with 1 Axes>"
            ]
          },
          "metadata": {},
          "output_type": "display_data"
        }
      ]
    },
    {
      "cell_type": "code",
      "metadata": {
        "colab": {
          "background_save": true
        },
        "id": "kKcB_Og7VVzC"
      },
      "source": [
        "y= df.price_range\n",
        "X = df[['ram', 'px_height', 'px_width', 'battery_power']]"
      ],
      "execution_count": null,
      "outputs": []
    },
    {
      "cell_type": "code",
      "metadata": {
        "colab": {
          "background_save": true
        },
        "id": "s2WDMYeNVbSY"
      },
      "source": [
        "train_X, test_X, train_y, test_y = train_test_split(X, y, test_size = 0.3, random_state = 42)"
      ],
      "execution_count": null,
      "outputs": []
    },
    {
      "cell_type": "code",
      "metadata": {
        "colab": {
          "background_save": true
        },
        "id": "IKMECPVLVj_D",
        "outputId": "05270026-cf43-4456-ff5a-374eda080aaf"
      },
      "source": [
        "xgb_model=XGBClassifier(learning_rate= 0.75,\n",
        " max_depth = 4,\n",
        " min_child_weight = 3,\n",
        " n_estimators = 75)\n",
        "xgb_model.fit(train_X, train_y)"
      ],
      "execution_count": null,
      "outputs": [
        {
          "data": {
            "text/plain": [
              "XGBClassifier(base_score=0.5, booster='gbtree', colsample_bylevel=1,\n",
              "              colsample_bynode=1, colsample_bytree=1, gamma=0,\n",
              "              learning_rate=0.75, max_delta_step=0, max_depth=4,\n",
              "              min_child_weight=3, missing=None, n_estimators=75, n_jobs=1,\n",
              "              nthread=None, objective='multi:softprob', random_state=0,\n",
              "              reg_alpha=0, reg_lambda=1, scale_pos_weight=1, seed=None,\n",
              "              silent=None, subsample=1, verbosity=1)"
            ]
          },
          "execution_count": null,
          "metadata": {},
          "output_type": "execute_result"
        }
      ]
    },
    {
      "cell_type": "code",
      "metadata": {
        "colab": {
          "background_save": true
        },
        "id": "_tLt88gjVoAn"
      },
      "source": [
        "y_test_prediction = xgb_model.predict(test_X)\n",
        "y_train_prediction = xgb_model.predict(train_X)"
      ],
      "execution_count": null,
      "outputs": []
    },
    {
      "cell_type": "code",
      "metadata": {
        "colab": {
          "background_save": true
        },
        "id": "8mqB2B62Vr3c",
        "outputId": "0642ef13-1c47-47c1-b576-f34e6ae58720"
      },
      "source": [
        "reportxgb = classification_report(test_y, y_test_prediction, output_dict = True)\n",
        "crLReg = pd.DataFrame(reportxgb).transpose()\n",
        "crLReg"
      ],
      "execution_count": null,
      "outputs": [
        {
          "data": {
            "text/html": [
              "<div>\n",
              "<style scoped>\n",
              "    .dataframe tbody tr th:only-of-type {\n",
              "        vertical-align: middle;\n",
              "    }\n",
              "\n",
              "    .dataframe tbody tr th {\n",
              "        vertical-align: top;\n",
              "    }\n",
              "\n",
              "    .dataframe thead th {\n",
              "        text-align: right;\n",
              "    }\n",
              "</style>\n",
              "<table border=\"1\" class=\"dataframe\">\n",
              "  <thead>\n",
              "    <tr style=\"text-align: right;\">\n",
              "      <th></th>\n",
              "      <th>precision</th>\n",
              "      <th>recall</th>\n",
              "      <th>f1-score</th>\n",
              "      <th>support</th>\n",
              "    </tr>\n",
              "  </thead>\n",
              "  <tbody>\n",
              "    <tr>\n",
              "      <th>0</th>\n",
              "      <td>0.966216</td>\n",
              "      <td>0.947020</td>\n",
              "      <td>0.956522</td>\n",
              "      <td>151.00</td>\n",
              "    </tr>\n",
              "    <tr>\n",
              "      <th>1</th>\n",
              "      <td>0.872611</td>\n",
              "      <td>0.938356</td>\n",
              "      <td>0.904290</td>\n",
              "      <td>146.00</td>\n",
              "    </tr>\n",
              "    <tr>\n",
              "      <th>2</th>\n",
              "      <td>0.906475</td>\n",
              "      <td>0.851351</td>\n",
              "      <td>0.878049</td>\n",
              "      <td>148.00</td>\n",
              "    </tr>\n",
              "    <tr>\n",
              "      <th>3</th>\n",
              "      <td>0.935897</td>\n",
              "      <td>0.941935</td>\n",
              "      <td>0.938907</td>\n",
              "      <td>155.00</td>\n",
              "    </tr>\n",
              "    <tr>\n",
              "      <th>accuracy</th>\n",
              "      <td>0.920000</td>\n",
              "      <td>0.920000</td>\n",
              "      <td>0.920000</td>\n",
              "      <td>0.92</td>\n",
              "    </tr>\n",
              "    <tr>\n",
              "      <th>macro avg</th>\n",
              "      <td>0.920300</td>\n",
              "      <td>0.919666</td>\n",
              "      <td>0.919442</td>\n",
              "      <td>600.00</td>\n",
              "    </tr>\n",
              "    <tr>\n",
              "      <th>weighted avg</th>\n",
              "      <td>0.920870</td>\n",
              "      <td>0.920000</td>\n",
              "      <td>0.919905</td>\n",
              "      <td>600.00</td>\n",
              "    </tr>\n",
              "  </tbody>\n",
              "</table>\n",
              "</div>"
            ],
            "text/plain": [
              "              precision    recall  f1-score  support\n",
              "0              0.966216  0.947020  0.956522   151.00\n",
              "1              0.872611  0.938356  0.904290   146.00\n",
              "2              0.906475  0.851351  0.878049   148.00\n",
              "3              0.935897  0.941935  0.938907   155.00\n",
              "accuracy       0.920000  0.920000  0.920000     0.92\n",
              "macro avg      0.920300  0.919666  0.919442   600.00\n",
              "weighted avg   0.920870  0.920000  0.919905   600.00"
            ]
          },
          "execution_count": null,
          "metadata": {},
          "output_type": "execute_result"
        }
      ]
    },
    {
      "cell_type": "code",
      "metadata": {
        "colab": {
          "background_save": true
        },
        "id": "RMCFCrdrVyh5",
        "outputId": "7b75203b-c75d-4ec4-f09e-58e62b48bd0f"
      },
      "source": [
        "reportxgb = classification_report(train_y, y_train_prediction, output_dict = True)\n",
        "crLReg = pd.DataFrame(reportxgb).transpose()\n",
        "crLReg"
      ],
      "execution_count": null,
      "outputs": [
        {
          "data": {
            "text/html": [
              "<div>\n",
              "<style scoped>\n",
              "    .dataframe tbody tr th:only-of-type {\n",
              "        vertical-align: middle;\n",
              "    }\n",
              "\n",
              "    .dataframe tbody tr th {\n",
              "        vertical-align: top;\n",
              "    }\n",
              "\n",
              "    .dataframe thead th {\n",
              "        text-align: right;\n",
              "    }\n",
              "</style>\n",
              "<table border=\"1\" class=\"dataframe\">\n",
              "  <thead>\n",
              "    <tr style=\"text-align: right;\">\n",
              "      <th></th>\n",
              "      <th>precision</th>\n",
              "      <th>recall</th>\n",
              "      <th>f1-score</th>\n",
              "      <th>support</th>\n",
              "    </tr>\n",
              "  </thead>\n",
              "  <tbody>\n",
              "    <tr>\n",
              "      <th>0</th>\n",
              "      <td>1.0</td>\n",
              "      <td>1.0</td>\n",
              "      <td>1.0</td>\n",
              "      <td>349.0</td>\n",
              "    </tr>\n",
              "    <tr>\n",
              "      <th>1</th>\n",
              "      <td>1.0</td>\n",
              "      <td>1.0</td>\n",
              "      <td>1.0</td>\n",
              "      <td>354.0</td>\n",
              "    </tr>\n",
              "    <tr>\n",
              "      <th>2</th>\n",
              "      <td>1.0</td>\n",
              "      <td>1.0</td>\n",
              "      <td>1.0</td>\n",
              "      <td>352.0</td>\n",
              "    </tr>\n",
              "    <tr>\n",
              "      <th>3</th>\n",
              "      <td>1.0</td>\n",
              "      <td>1.0</td>\n",
              "      <td>1.0</td>\n",
              "      <td>345.0</td>\n",
              "    </tr>\n",
              "    <tr>\n",
              "      <th>accuracy</th>\n",
              "      <td>1.0</td>\n",
              "      <td>1.0</td>\n",
              "      <td>1.0</td>\n",
              "      <td>1.0</td>\n",
              "    </tr>\n",
              "    <tr>\n",
              "      <th>macro avg</th>\n",
              "      <td>1.0</td>\n",
              "      <td>1.0</td>\n",
              "      <td>1.0</td>\n",
              "      <td>1400.0</td>\n",
              "    </tr>\n",
              "    <tr>\n",
              "      <th>weighted avg</th>\n",
              "      <td>1.0</td>\n",
              "      <td>1.0</td>\n",
              "      <td>1.0</td>\n",
              "      <td>1400.0</td>\n",
              "    </tr>\n",
              "  </tbody>\n",
              "</table>\n",
              "</div>"
            ],
            "text/plain": [
              "              precision  recall  f1-score  support\n",
              "0                   1.0     1.0       1.0    349.0\n",
              "1                   1.0     1.0       1.0    354.0\n",
              "2                   1.0     1.0       1.0    352.0\n",
              "3                   1.0     1.0       1.0    345.0\n",
              "accuracy            1.0     1.0       1.0      1.0\n",
              "macro avg           1.0     1.0       1.0   1400.0\n",
              "weighted avg        1.0     1.0       1.0   1400.0"
            ]
          },
          "execution_count": null,
          "metadata": {},
          "output_type": "execute_result"
        }
      ]
    },
    {
      "cell_type": "markdown",
      "metadata": {
        "id": "XtZrHl7_0Ejh"
      },
      "source": [
        "#Removing multicollinear variables"
      ]
    },
    {
      "cell_type": "code",
      "metadata": {
        "colab": {
          "background_save": true
        },
        "id": "3LstC_95rHzc",
        "outputId": "f04c7e2f-d370-4e76-ab94-98e4a1010366"
      },
      "source": [
        "train_X,test_X,train_y,test_y = train_test_split(mobile_price_prediction[mobile_price_prediction.columns.difference(['price_range','sc_h','m_dep','talk_time','sc_w'])],\n",
        "                                                 mobile_price_prediction['price_range'],\n",
        "                                                test_size=0.3,random_state=0)\n",
        "import statsmodels.api as sm\n",
        "train_X=sm.add_constant(train_X)\n",
        "test_X=sm.add_constant(test_X)\n",
        "lm=sm.OLS(train_y,train_X).fit()\n",
        "lm.summary()"
      ],
      "execution_count": null,
      "outputs": [
        {
          "data": {
            "text/html": [
              "<table class=\"simpletable\">\n",
              "<caption>OLS Regression Results</caption>\n",
              "<tr>\n",
              "  <th>Dep. Variable:</th>       <td>price_range</td>   <th>  R-squared:         </th> <td>   0.917</td>\n",
              "</tr>\n",
              "<tr>\n",
              "  <th>Model:</th>                   <td>OLS</td>       <th>  Adj. R-squared:    </th> <td>   0.916</td>\n",
              "</tr>\n",
              "<tr>\n",
              "  <th>Method:</th>             <td>Least Squares</td>  <th>  F-statistic:       </th> <td>   950.8</td>\n",
              "</tr>\n",
              "<tr>\n",
              "  <th>Date:</th>             <td>Sun, 05 Sep 2021</td> <th>  Prob (F-statistic):</th>  <td>  0.00</td> \n",
              "</tr>\n",
              "<tr>\n",
              "  <th>Time:</th>                 <td>05:47:20</td>     <th>  Log-Likelihood:    </th> <td> -391.77</td>\n",
              "</tr>\n",
              "<tr>\n",
              "  <th>No. Observations:</th>      <td>  1400</td>      <th>  AIC:               </th> <td>   817.5</td>\n",
              "</tr>\n",
              "<tr>\n",
              "  <th>Df Residuals:</th>          <td>  1383</td>      <th>  BIC:               </th> <td>   906.7</td>\n",
              "</tr>\n",
              "<tr>\n",
              "  <th>Df Model:</th>              <td>    16</td>      <th>                     </th>     <td> </td>   \n",
              "</tr>\n",
              "<tr>\n",
              "  <th>Covariance Type:</th>      <td>nonrobust</td>    <th>                     </th>     <td> </td>   \n",
              "</tr>\n",
              "</table>\n",
              "<table class=\"simpletable\">\n",
              "<tr>\n",
              "        <td></td>           <th>coef</th>     <th>std err</th>      <th>t</th>      <th>P>|t|</th>  <th>[0.025</th>    <th>0.975]</th>  \n",
              "</tr>\n",
              "<tr>\n",
              "  <th>const</th>         <td>   -1.6032</td> <td>    0.066</td> <td>  -24.455</td> <td> 0.000</td> <td>   -1.732</td> <td>   -1.475</td>\n",
              "</tr>\n",
              "<tr>\n",
              "  <th>battery_power</th> <td>    0.0005</td> <td> 1.95e-05</td> <td>   26.192</td> <td> 0.000</td> <td>    0.000</td> <td>    0.001</td>\n",
              "</tr>\n",
              "<tr>\n",
              "  <th>blue</th>          <td>    0.0094</td> <td>    0.017</td> <td>    0.542</td> <td> 0.588</td> <td>   -0.025</td> <td>    0.043</td>\n",
              "</tr>\n",
              "<tr>\n",
              "  <th>clock_speed</th>   <td>   -0.0073</td> <td>    0.011</td> <td>   -0.686</td> <td> 0.493</td> <td>   -0.028</td> <td>    0.014</td>\n",
              "</tr>\n",
              "<tr>\n",
              "  <th>dual_sim</th>      <td>   -0.0283</td> <td>    0.017</td> <td>   -1.631</td> <td> 0.103</td> <td>   -0.062</td> <td>    0.006</td>\n",
              "</tr>\n",
              "<tr>\n",
              "  <th>fc</th>            <td>    0.0021</td> <td>    0.003</td> <td>    0.805</td> <td> 0.421</td> <td>   -0.003</td> <td>    0.007</td>\n",
              "</tr>\n",
              "<tr>\n",
              "  <th>four_g</th>        <td>   -0.0128</td> <td>    0.021</td> <td>   -0.601</td> <td> 0.548</td> <td>   -0.055</td> <td>    0.029</td>\n",
              "</tr>\n",
              "<tr>\n",
              "  <th>int_memory</th>    <td>    0.0011</td> <td>    0.000</td> <td>    2.394</td> <td> 0.017</td> <td>    0.000</td> <td>    0.002</td>\n",
              "</tr>\n",
              "<tr>\n",
              "  <th>mobile_wt</th>     <td>   -0.0008</td> <td>    0.000</td> <td>   -3.113</td> <td> 0.002</td> <td>   -0.001</td> <td>   -0.000</td>\n",
              "</tr>\n",
              "<tr>\n",
              "  <th>n_cores</th>       <td>    0.0038</td> <td>    0.004</td> <td>    0.991</td> <td> 0.322</td> <td>   -0.004</td> <td>    0.011</td>\n",
              "</tr>\n",
              "<tr>\n",
              "  <th>pc</th>            <td>   -0.0023</td> <td>    0.002</td> <td>   -1.228</td> <td> 0.220</td> <td>   -0.006</td> <td>    0.001</td>\n",
              "</tr>\n",
              "<tr>\n",
              "  <th>px_height</th>     <td>    0.0003</td> <td> 2.26e-05</td> <td>   12.847</td> <td> 0.000</td> <td>    0.000</td> <td>    0.000</td>\n",
              "</tr>\n",
              "<tr>\n",
              "  <th>px_width</th>      <td>    0.0003</td> <td> 2.33e-05</td> <td>   12.269</td> <td> 0.000</td> <td>    0.000</td> <td>    0.000</td>\n",
              "</tr>\n",
              "<tr>\n",
              "  <th>ram</th>           <td>    0.0009</td> <td> 8.07e-06</td> <td>  117.409</td> <td> 0.000</td> <td>    0.001</td> <td>    0.001</td>\n",
              "</tr>\n",
              "<tr>\n",
              "  <th>three_g</th>       <td>    0.0247</td> <td>    0.025</td> <td>    0.986</td> <td> 0.324</td> <td>   -0.024</td> <td>    0.074</td>\n",
              "</tr>\n",
              "<tr>\n",
              "  <th>touch_screen</th>  <td>   -0.0111</td> <td>    0.017</td> <td>   -0.639</td> <td> 0.523</td> <td>   -0.045</td> <td>    0.023</td>\n",
              "</tr>\n",
              "<tr>\n",
              "  <th>wifi</th>          <td>   -0.0197</td> <td>    0.017</td> <td>   -1.138</td> <td> 0.255</td> <td>   -0.054</td> <td>    0.014</td>\n",
              "</tr>\n",
              "</table>\n",
              "<table class=\"simpletable\">\n",
              "<tr>\n",
              "  <th>Omnibus:</th>       <td>58.311</td> <th>  Durbin-Watson:     </th> <td>   2.036</td>\n",
              "</tr>\n",
              "<tr>\n",
              "  <th>Prob(Omnibus):</th> <td> 0.000</td> <th>  Jarque-Bera (JB):  </th> <td>  25.385</td>\n",
              "</tr>\n",
              "<tr>\n",
              "  <th>Skew:</th>          <td> 0.035</td> <th>  Prob(JB):          </th> <td>3.07e-06</td>\n",
              "</tr>\n",
              "<tr>\n",
              "  <th>Kurtosis:</th>      <td> 2.344</td> <th>  Cond. No.          </th> <td>2.27e+04</td>\n",
              "</tr>\n",
              "</table><br/><br/>Warnings:<br/>[1] Standard Errors assume that the covariance matrix of the errors is correctly specified.<br/>[2] The condition number is large, 2.27e+04. This might indicate that there are<br/>strong multicollinearity or other numerical problems."
            ],
            "text/plain": [
              "<class 'statsmodels.iolib.summary.Summary'>\n",
              "\"\"\"\n",
              "                            OLS Regression Results                            \n",
              "==============================================================================\n",
              "Dep. Variable:            price_range   R-squared:                       0.917\n",
              "Model:                            OLS   Adj. R-squared:                  0.916\n",
              "Method:                 Least Squares   F-statistic:                     950.8\n",
              "Date:                Sun, 05 Sep 2021   Prob (F-statistic):               0.00\n",
              "Time:                        05:47:20   Log-Likelihood:                -391.77\n",
              "No. Observations:                1400   AIC:                             817.5\n",
              "Df Residuals:                    1383   BIC:                             906.7\n",
              "Df Model:                          16                                         \n",
              "Covariance Type:            nonrobust                                         \n",
              "=================================================================================\n",
              "                    coef    std err          t      P>|t|      [0.025      0.975]\n",
              "---------------------------------------------------------------------------------\n",
              "const            -1.6032      0.066    -24.455      0.000      -1.732      -1.475\n",
              "battery_power     0.0005   1.95e-05     26.192      0.000       0.000       0.001\n",
              "blue              0.0094      0.017      0.542      0.588      -0.025       0.043\n",
              "clock_speed      -0.0073      0.011     -0.686      0.493      -0.028       0.014\n",
              "dual_sim         -0.0283      0.017     -1.631      0.103      -0.062       0.006\n",
              "fc                0.0021      0.003      0.805      0.421      -0.003       0.007\n",
              "four_g           -0.0128      0.021     -0.601      0.548      -0.055       0.029\n",
              "int_memory        0.0011      0.000      2.394      0.017       0.000       0.002\n",
              "mobile_wt        -0.0008      0.000     -3.113      0.002      -0.001      -0.000\n",
              "n_cores           0.0038      0.004      0.991      0.322      -0.004       0.011\n",
              "pc               -0.0023      0.002     -1.228      0.220      -0.006       0.001\n",
              "px_height         0.0003   2.26e-05     12.847      0.000       0.000       0.000\n",
              "px_width          0.0003   2.33e-05     12.269      0.000       0.000       0.000\n",
              "ram               0.0009   8.07e-06    117.409      0.000       0.001       0.001\n",
              "three_g           0.0247      0.025      0.986      0.324      -0.024       0.074\n",
              "touch_screen     -0.0111      0.017     -0.639      0.523      -0.045       0.023\n",
              "wifi             -0.0197      0.017     -1.138      0.255      -0.054       0.014\n",
              "==============================================================================\n",
              "Omnibus:                       58.311   Durbin-Watson:                   2.036\n",
              "Prob(Omnibus):                  0.000   Jarque-Bera (JB):               25.385\n",
              "Skew:                           0.035   Prob(JB):                     3.07e-06\n",
              "Kurtosis:                       2.344   Cond. No.                     2.27e+04\n",
              "==============================================================================\n",
              "\n",
              "Warnings:\n",
              "[1] Standard Errors assume that the covariance matrix of the errors is correctly specified.\n",
              "[2] The condition number is large, 2.27e+04. This might indicate that there are\n",
              "strong multicollinearity or other numerical problems.\n",
              "\"\"\""
            ]
          },
          "execution_count": null,
          "metadata": {},
          "output_type": "execute_result"
        }
      ]
    },
    {
      "cell_type": "code",
      "metadata": {
        "colab": {
          "background_save": true
        },
        "id": "-ad_06tvrsaM",
        "outputId": "bc5fb66e-5bfc-4bc0-a70d-9500ff94c44b"
      },
      "source": [
        "pip install shap"
      ],
      "execution_count": null,
      "outputs": [
        {
          "name": "stdout",
          "output_type": "stream",
          "text": [
            "Collecting shap\n",
            "  Downloading shap-0.39.0.tar.gz (356 kB)\n",
            "\u001b[?25l\r\u001b[K     |█                               | 10 kB 22.7 MB/s eta 0:00:01\r\u001b[K     |█▉                              | 20 kB 10.8 MB/s eta 0:00:01\r\u001b[K     |██▊                             | 30 kB 8.4 MB/s eta 0:00:01\r\u001b[K     |███▊                            | 40 kB 7.8 MB/s eta 0:00:01\r\u001b[K     |████▋                           | 51 kB 4.1 MB/s eta 0:00:01\r\u001b[K     |█████▌                          | 61 kB 4.4 MB/s eta 0:00:01\r\u001b[K     |██████▍                         | 71 kB 4.4 MB/s eta 0:00:01\r\u001b[K     |███████▍                        | 81 kB 4.9 MB/s eta 0:00:01\r\u001b[K     |████████▎                       | 92 kB 5.1 MB/s eta 0:00:01\r\u001b[K     |█████████▏                      | 102 kB 4.0 MB/s eta 0:00:01\r\u001b[K     |██████████▏                     | 112 kB 4.0 MB/s eta 0:00:01\r\u001b[K     |███████████                     | 122 kB 4.0 MB/s eta 0:00:01\r\u001b[K     |████████████                    | 133 kB 4.0 MB/s eta 0:00:01\r\u001b[K     |████████████▉                   | 143 kB 4.0 MB/s eta 0:00:01\r\u001b[K     |█████████████▉                  | 153 kB 4.0 MB/s eta 0:00:01\r\u001b[K     |██████████████▊                 | 163 kB 4.0 MB/s eta 0:00:01\r\u001b[K     |███████████████▋                | 174 kB 4.0 MB/s eta 0:00:01\r\u001b[K     |████████████████▋               | 184 kB 4.0 MB/s eta 0:00:01\r\u001b[K     |█████████████████▌              | 194 kB 4.0 MB/s eta 0:00:01\r\u001b[K     |██████████████████▍             | 204 kB 4.0 MB/s eta 0:00:01\r\u001b[K     |███████████████████▎            | 215 kB 4.0 MB/s eta 0:00:01\r\u001b[K     |████████████████████▎           | 225 kB 4.0 MB/s eta 0:00:01\r\u001b[K     |█████████████████████▏          | 235 kB 4.0 MB/s eta 0:00:01\r\u001b[K     |██████████████████████          | 245 kB 4.0 MB/s eta 0:00:01\r\u001b[K     |███████████████████████         | 256 kB 4.0 MB/s eta 0:00:01\r\u001b[K     |████████████████████████        | 266 kB 4.0 MB/s eta 0:00:01\r\u001b[K     |████████████████████████▉       | 276 kB 4.0 MB/s eta 0:00:01\r\u001b[K     |█████████████████████████▊      | 286 kB 4.0 MB/s eta 0:00:01\r\u001b[K     |██████████████████████████▊     | 296 kB 4.0 MB/s eta 0:00:01\r\u001b[K     |███████████████████████████▋    | 307 kB 4.0 MB/s eta 0:00:01\r\u001b[K     |████████████████████████████▌   | 317 kB 4.0 MB/s eta 0:00:01\r\u001b[K     |█████████████████████████████▍  | 327 kB 4.0 MB/s eta 0:00:01\r\u001b[K     |██████████████████████████████▍ | 337 kB 4.0 MB/s eta 0:00:01\r\u001b[K     |███████████████████████████████▎| 348 kB 4.0 MB/s eta 0:00:01\r\u001b[K     |████████████████████████████████| 356 kB 4.0 MB/s \n",
            "\u001b[?25hRequirement already satisfied: numpy in /usr/local/lib/python3.7/dist-packages (from shap) (1.19.5)\n",
            "Requirement already satisfied: scipy in /usr/local/lib/python3.7/dist-packages (from shap) (1.4.1)\n",
            "Requirement already satisfied: scikit-learn in /usr/local/lib/python3.7/dist-packages (from shap) (0.22.2.post1)\n",
            "Requirement already satisfied: pandas in /usr/local/lib/python3.7/dist-packages (from shap) (1.1.5)\n",
            "Requirement already satisfied: tqdm>4.25.0 in /usr/local/lib/python3.7/dist-packages (from shap) (4.62.0)\n",
            "Collecting slicer==0.0.7\n",
            "  Downloading slicer-0.0.7-py3-none-any.whl (14 kB)\n",
            "Requirement already satisfied: numba in /usr/local/lib/python3.7/dist-packages (from shap) (0.51.2)\n",
            "Requirement already satisfied: cloudpickle in /usr/local/lib/python3.7/dist-packages (from shap) (1.3.0)\n",
            "Requirement already satisfied: setuptools in /usr/local/lib/python3.7/dist-packages (from numba->shap) (57.4.0)\n",
            "Requirement already satisfied: llvmlite<0.35,>=0.34.0.dev0 in /usr/local/lib/python3.7/dist-packages (from numba->shap) (0.34.0)\n",
            "Requirement already satisfied: python-dateutil>=2.7.3 in /usr/local/lib/python3.7/dist-packages (from pandas->shap) (2.8.2)\n",
            "Requirement already satisfied: pytz>=2017.2 in /usr/local/lib/python3.7/dist-packages (from pandas->shap) (2018.9)\n",
            "Requirement already satisfied: six>=1.5 in /usr/local/lib/python3.7/dist-packages (from python-dateutil>=2.7.3->pandas->shap) (1.15.0)\n",
            "Requirement already satisfied: joblib>=0.11 in /usr/local/lib/python3.7/dist-packages (from scikit-learn->shap) (1.0.1)\n",
            "Building wheels for collected packages: shap\n",
            "  Building wheel for shap (setup.py) ... \u001b[?25l\u001b[?25hdone\n",
            "  Created wheel for shap: filename=shap-0.39.0-cp37-cp37m-linux_x86_64.whl size=491646 sha256=fa7e8a0768e3b2a8cc8ec61d87dc93d08c649ada8e05bfd943bdcecd6304e5e4\n",
            "  Stored in directory: /root/.cache/pip/wheels/ca/25/8f/6ae5df62c32651cd719e972e738a8aaa4a87414c4d2b14c9c0\n",
            "Successfully built shap\n",
            "Installing collected packages: slicer, shap\n",
            "Successfully installed shap-0.39.0 slicer-0.0.7\n"
          ]
        }
      ]
    }
  ]
}